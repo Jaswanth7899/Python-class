{
 "cells": [
  {
   "cell_type": "markdown",
   "metadata": {},
   "source": [
    "# Topics"
   ]
  },
  {
   "cell_type": "code",
   "execution_count": null,
   "metadata": {},
   "outputs": [],
   "source": [
    "1. inheritance\n",
    "2. has-a relationship\n",
    "3. is-a relationship\n",
    "4. is-a vs has-a relationship\n",
    "5. composition vs aggregration\n",
    "\n",
    "5. types of inheritance:\n",
    "    a. single \n",
    "    b. multilevel\n",
    "    c. hierarchical\n",
    "    d. multiple\n",
    "    e. hybrid\n",
    "    f. cyclic\n",
    "6. method resolution order (MRO)\n",
    "7.Super() method\n"
   ]
  },
  {
   "cell_type": "markdown",
   "metadata": {},
   "source": [
    "# using members of one class inside other class"
   ]
  },
  {
   "cell_type": "code",
   "execution_count": null,
   "metadata": {},
   "outputs": [],
   "source": [
    "1. by compostion(has-a relationship)\n",
    "2. by inheritance(is-a relationship)"
   ]
  },
  {
   "cell_type": "markdown",
   "metadata": {},
   "source": [
    "# 1. By compostion (Has-A Relationship)"
   ]
  },
  {
   "cell_type": "code",
   "execution_count": null,
   "metadata": {},
   "outputs": [],
   "source": [
    "By using class name or by creating object we can acess members of one class in another class is called composition\n",
    "the main advantage of Has-A Relationship is code reusability"
   ]
  },
  {
   "cell_type": "code",
   "execution_count": 1,
   "metadata": {},
   "outputs": [
    {
     "name": "stdout",
     "output_type": "stream",
     "text": [
      "Car class using Engine class functionality\n",
      "10\n",
      "20\n",
      "Engine is a main part of car\n"
     ]
    }
   ],
   "source": [
    "#example program for Has-A Relationship\n",
    "class Engine:\n",
    "    a=10\n",
    "    def __init__(self):\n",
    "        self.b=20\n",
    "    def m1(self):\n",
    "        print(\"Engine is a main part of car\")\n",
    "class Car:\n",
    "    def __init__(self):\n",
    "        self.engine=Engine()\n",
    "    def m2(self):\n",
    "        print(\"Car class using Engine class functionality\")\n",
    "        print(self.engine.a)\n",
    "        print(self.engine.b)\n",
    "        self.engine.m1()\n",
    "c=Car()\n",
    "c.m2()"
   ]
  },
  {
   "cell_type": "code",
   "execution_count": 2,
   "metadata": {},
   "outputs": [
    {
     "name": "stdout",
     "output_type": "stream",
     "text": [
      "Car class using Engine class functionality\n",
      "30\n",
      "Engine is a main part of car\n"
     ]
    }
   ],
   "source": [
    "#example program for Has-A Relationship\n",
    "class Engine:\n",
    "    a=10\n",
    "    def __init__(self):\n",
    "        self.b=20\n",
    "    def m1(self):\n",
    "        print(\"Engine is a main part of car\")\n",
    "class Car:\n",
    "    def __init__(self):\n",
    "        self.engine=Engine()\n",
    "    def m2(self):\n",
    "        print(\"Car class using Engine class functionality\")\n",
    "        print(self.engine.a+self.engine.b)\n",
    "        self.engine.m1()\n",
    "c=Car()\n",
    "c.m2()"
   ]
  },
  {
   "cell_type": "markdown",
   "metadata": {},
   "source": [
    "# Example-2"
   ]
  },
  {
   "cell_type": "code",
   "execution_count": 9,
   "metadata": {},
   "outputs": [
    {
     "name": "stdout",
     "output_type": "stream",
     "text": [
      "Employee name: Sunny\n",
      "Employee Model: 1008\n",
      "Employee Car information:\n",
      "Car name: BMW\n",
      "Car Model: Q7\n",
      "Car color: Yellow\n"
     ]
    }
   ],
   "source": [
    "class Car:\n",
    "    def __init__(self,name,model,color):\n",
    "        self.name=name\n",
    "        self.model=model\n",
    "        self.color=color\n",
    "    def info(self):\n",
    "        print(\"Car name:\",self.name)\n",
    "        print(\"Car Model:\",self.model)\n",
    "        print(\"Car color:\",self.color)\n",
    "class Employee:\n",
    "    def __init__(self,ename,eno,car):\n",
    "        self.ename=ename\n",
    "        self.eno=eno\n",
    "        self.car=car\n",
    "    def einfo(self):\n",
    "        print(\"Employee name:\",self.ename)\n",
    "        print(\"Employee Model:\",self.eno)\n",
    "        print(\"Employee Car information:\")\n",
    "        self.car.info()\n",
    "c=Car(\"BMW\",\"Q7\",\"Yellow\")\n",
    "e=Employee(\"Sunny\",1008,c)\n",
    "e.einfo()      "
   ]
  },
  {
   "cell_type": "markdown",
   "metadata": {},
   "source": [
    "# example-3"
   ]
  },
  {
   "cell_type": "code",
   "execution_count": 3,
   "metadata": {},
   "outputs": [
    {
     "name": "stdout",
     "output_type": "stream",
     "text": [
      "a value of class X in class Y: 10\n",
      "b value of class X in class Y: 20\n",
      "m1 method of X class\n",
      "c value of class Y is: 30\n",
      "d value of class Y is: 40\n",
      "m2 method of Y class\n",
      "m2 method of class Y\n"
     ]
    }
   ],
   "source": [
    "class X:\n",
    "    a=10\n",
    "    def __init__(self):\n",
    "        self.b=20\n",
    "    def m1(self):\n",
    "        print(\"m1 method of X class\")\n",
    "class Y:\n",
    "    c=30\n",
    "    def __init__(self):\n",
    "        self.d=40\n",
    "    def m2(self):\n",
    "        print(\"m2 method of Y class\")\n",
    "    def m3(self):\n",
    "        x1=X()\n",
    "        print(\"a value of class X in class Y:\",x1.a)\n",
    "        print(\"b value of class X in class Y:\",x1.b)\n",
    "        x1.m1() #calling of m1 of class x in class y with object reference\n",
    "        print(\"c value of class Y is:\",Y.c)\n",
    "        print(\"d value of class Y is:\",self.d)\n",
    "        self.m2()\n",
    "        print(\"m2 method of class Y\")\n",
    "y1=Y()\n",
    "y1.m3()\n",
    "        "
   ]
  },
  {
   "cell_type": "markdown",
   "metadata": {},
   "source": [
    "# 2. By Inheritance(Is-A Relationship)"
   ]
  },
  {
   "cell_type": "code",
   "execution_count": null,
   "metadata": {},
   "outputs": [],
   "source": [
    "whatever the variable, method,constructors available in parent class by default available to child and we are not required\n",
    "to rewrite.\n",
    "We can extend the functionality with some more extra functionality."
   ]
  },
  {
   "cell_type": "code",
   "execution_count": 10,
   "metadata": {},
   "outputs": [
    {
     "name": "stdout",
     "output_type": "stream",
     "text": [
      "a value of parent class: 10\n",
      "b value of parent class: 20\n",
      "Parent Instance Method\n",
      "Parent class method\n",
      "Parent class static method\n"
     ]
    }
   ],
   "source": [
    "class Parent:\n",
    "    a=10\n",
    "    def __init__(self):\n",
    "        self.b=20\n",
    "    def m1(self):\n",
    "        print(\"Parent Instance Method\")\n",
    "    @classmethod\n",
    "    def m2(cls):\n",
    "        print(\"Parent class method\")\n",
    "    @staticmethod\n",
    "    def m3():\n",
    "        print(\"Parent class static method\")\n",
    "class child(Parent):\n",
    "    pass\n",
    "c=child()\n",
    "print(\"a value of parent class:\",c.a)\n",
    "print(\"b value of parent class:\",c.b)\n",
    "c.m1()\n",
    "c.m2()\n",
    "c.m3()"
   ]
  },
  {
   "cell_type": "code",
   "execution_count": null,
   "metadata": {},
   "outputs": [],
   "source": []
  }
 ],
 "metadata": {
  "kernelspec": {
   "display_name": "Python 3",
   "language": "python",
   "name": "python3"
  },
  "language_info": {
   "codemirror_mode": {
    "name": "ipython",
    "version": 3
   },
   "file_extension": ".py",
   "mimetype": "text/x-python",
   "name": "python",
   "nbconvert_exporter": "python",
   "pygments_lexer": "ipython3",
   "version": "3.8.5"
  }
 },
 "nbformat": 4,
 "nbformat_minor": 4
}
