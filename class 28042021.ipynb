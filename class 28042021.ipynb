{
 "cells": [
  {
   "cell_type": "markdown",
   "id": "ca571c9d",
   "metadata": {},
   "source": [
    "# changing case of strings"
   ]
  },
  {
   "cell_type": "code",
   "execution_count": null,
   "id": "987c0f3e",
   "metadata": {},
   "outputs": [],
   "source": [
    "upper()----> To convert all characters to uppercase"
   ]
  },
  {
   "cell_type": "code",
   "execution_count": 1,
   "id": "535293f6",
   "metadata": {},
   "outputs": [
    {
     "name": "stdout",
     "output_type": "stream",
     "text": [
      "HELLO GOOD MORNING\n"
     ]
    }
   ],
   "source": [
    "s=\"Hello good morning\"\n",
    "print(s.upper())"
   ]
  },
  {
   "cell_type": "code",
   "execution_count": null,
   "id": "5fcfda3a",
   "metadata": {},
   "outputs": [],
   "source": [
    "lower()---> To convert all characters to lowercase"
   ]
  },
  {
   "cell_type": "code",
   "execution_count": 2,
   "id": "c5d8ed7d",
   "metadata": {},
   "outputs": [
    {
     "name": "stdout",
     "output_type": "stream",
     "text": [
      "hello good morning\n"
     ]
    }
   ],
   "source": [
    "s=\"HELLO GOOD MORNING\"\n",
    "print(s.lower())"
   ]
  },
  {
   "cell_type": "code",
   "execution_count": null,
   "id": "3b4eac2c",
   "metadata": {},
   "outputs": [],
   "source": [
    "swapcase()---> convert uppercase to lowercase & lowercase to uppercase"
   ]
  },
  {
   "cell_type": "code",
   "execution_count": 3,
   "id": "5ab5a308",
   "metadata": {},
   "outputs": [
    {
     "name": "stdout",
     "output_type": "stream",
     "text": [
      "hello GOOD morning\n"
     ]
    }
   ],
   "source": [
    "s=\"HELLO good MORNING\"\n",
    "print(s.swapcase())"
   ]
  },
  {
   "cell_type": "code",
   "execution_count": null,
   "id": "8d719376",
   "metadata": {},
   "outputs": [],
   "source": [
    "capitalize()---> only first character will be converted to uppercase"
   ]
  },
  {
   "cell_type": "code",
   "execution_count": 5,
   "id": "01a07a46",
   "metadata": {},
   "outputs": [
    {
     "name": "stdout",
     "output_type": "stream",
     "text": [
      "Hello good morning\n"
     ]
    }
   ],
   "source": [
    "s=\"hello good morning\"\n",
    "print(s.capitalize())"
   ]
  },
  {
   "cell_type": "code",
   "execution_count": null,
   "id": "0ce8ff5d",
   "metadata": {},
   "outputs": [],
   "source": [
    "title()---> converts first character of ecah word to uppercase"
   ]
  },
  {
   "cell_type": "code",
   "execution_count": 6,
   "id": "bb6eb526",
   "metadata": {},
   "outputs": [
    {
     "name": "stdout",
     "output_type": "stream",
     "text": [
      "Hello Good Morning\n"
     ]
    }
   ],
   "source": [
    "s=\"hello good morning\"\n",
    "print(s.title())"
   ]
  },
  {
   "cell_type": "markdown",
   "id": "5a63bebf",
   "metadata": {},
   "source": [
    "# Checking starting and ending part of the string"
   ]
  },
  {
   "cell_type": "code",
   "execution_count": 10,
   "id": "4df014d5",
   "metadata": {},
   "outputs": [
    {
     "name": "stdout",
     "output_type": "stream",
     "text": [
      "True\n"
     ]
    }
   ],
   "source": [
    "s=\"Hello good morning\"\n",
    "print(s.startswith(\"Hello\"))"
   ]
  },
  {
   "cell_type": "code",
   "execution_count": 12,
   "id": "280c4131",
   "metadata": {},
   "outputs": [
    {
     "name": "stdout",
     "output_type": "stream",
     "text": [
      "False\n"
     ]
    }
   ],
   "source": [
    "s=\"Hello good morning\"\n",
    "print(s.startswith(\"hello\"))"
   ]
  },
  {
   "cell_type": "code",
   "execution_count": 11,
   "id": "37b2aada",
   "metadata": {},
   "outputs": [
    {
     "name": "stdout",
     "output_type": "stream",
     "text": [
      "True\n"
     ]
    }
   ],
   "source": [
    "s=\"Hello good morning\"\n",
    "print(s.endswith(\"morning\"))"
   ]
  },
  {
   "cell_type": "code",
   "execution_count": 13,
   "id": "9eabe73c",
   "metadata": {},
   "outputs": [
    {
     "name": "stdout",
     "output_type": "stream",
     "text": [
      "False\n"
     ]
    }
   ],
   "source": [
    "s=\"Hello good morning\"\n",
    "print(s.endswith(\"Morning\"))"
   ]
  },
  {
   "cell_type": "markdown",
   "id": "e838e7e2",
   "metadata": {},
   "source": [
    "# To check type of character present in given string"
   ]
  },
  {
   "cell_type": "code",
   "execution_count": null,
   "id": "535eb14d",
   "metadata": {},
   "outputs": [],
   "source": [
    "isalnum(): returns true if all characters are alphanumeric characters"
   ]
  },
  {
   "cell_type": "code",
   "execution_count": 14,
   "id": "11805311",
   "metadata": {},
   "outputs": [
    {
     "name": "stdout",
     "output_type": "stream",
     "text": [
      "True\n"
     ]
    }
   ],
   "source": [
    "print(\"jaswanth789\".isalnum())"
   ]
  },
  {
   "cell_type": "code",
   "execution_count": 15,
   "id": "42829b6c",
   "metadata": {},
   "outputs": [
    {
     "name": "stdout",
     "output_type": "stream",
     "text": [
      "False\n"
     ]
    }
   ],
   "source": [
    "print(\"jaswanth@789\".isalnum())"
   ]
  },
  {
   "cell_type": "code",
   "execution_count": 16,
   "id": "d57b28fc",
   "metadata": {},
   "outputs": [
    {
     "name": "stdout",
     "output_type": "stream",
     "text": [
      "False\n"
     ]
    }
   ],
   "source": [
    "print(\"jaswanth   789\".isalnum())"
   ]
  },
  {
   "cell_type": "code",
   "execution_count": null,
   "id": "ad46c4c3",
   "metadata": {},
   "outputs": [],
   "source": [
    "isalpha():"
   ]
  },
  {
   "cell_type": "code",
   "execution_count": 17,
   "id": "c0c16f3d",
   "metadata": {},
   "outputs": [
    {
     "name": "stdout",
     "output_type": "stream",
     "text": [
      "True\n"
     ]
    }
   ],
   "source": [
    "print(\"jaswanth\".isalpha())"
   ]
  },
  {
   "cell_type": "code",
   "execution_count": 18,
   "id": "d2c39257",
   "metadata": {},
   "outputs": [
    {
     "name": "stdout",
     "output_type": "stream",
     "text": [
      "False\n"
     ]
    }
   ],
   "source": [
    "print(\"jaswanth789\".isalpha())"
   ]
  },
  {
   "cell_type": "code",
   "execution_count": null,
   "id": "fe9aa268",
   "metadata": {},
   "outputs": [],
   "source": [
    "isdigit():"
   ]
  },
  {
   "cell_type": "code",
   "execution_count": 19,
   "id": "c1c37285",
   "metadata": {},
   "outputs": [
    {
     "name": "stdout",
     "output_type": "stream",
     "text": [
      "True\n"
     ]
    }
   ],
   "source": [
    "print(\"1234\".isdigit())"
   ]
  },
  {
   "cell_type": "code",
   "execution_count": 20,
   "id": "0c5e47ad",
   "metadata": {},
   "outputs": [
    {
     "name": "stdout",
     "output_type": "stream",
     "text": [
      "False\n"
     ]
    }
   ],
   "source": [
    "print(\"jaswanth1234\".isdigit())"
   ]
  },
  {
   "cell_type": "code",
   "execution_count": 21,
   "id": "6859c3da",
   "metadata": {},
   "outputs": [
    {
     "name": "stdout",
     "output_type": "stream",
     "text": [
      "False\n"
     ]
    }
   ],
   "source": [
    "print(\"    1234\".isdigit())"
   ]
  },
  {
   "cell_type": "code",
   "execution_count": null,
   "id": "2b5e3506",
   "metadata": {},
   "outputs": [],
   "source": [
    "islower()--> returns true if all characters are lowercase"
   ]
  },
  {
   "cell_type": "code",
   "execution_count": 25,
   "id": "6ff97bb9",
   "metadata": {},
   "outputs": [
    {
     "name": "stdout",
     "output_type": "stream",
     "text": [
      "True\n"
     ]
    }
   ],
   "source": [
    "s=\"hello\"\n",
    "print(s.islower())"
   ]
  },
  {
   "cell_type": "code",
   "execution_count": 24,
   "id": "bb71d018",
   "metadata": {},
   "outputs": [
    {
     "name": "stdout",
     "output_type": "stream",
     "text": [
      "False\n"
     ]
    }
   ],
   "source": [
    "s=\"HELLO\"\n",
    "print(s.islower())"
   ]
  },
  {
   "cell_type": "code",
   "execution_count": 26,
   "id": "ae27b7ce",
   "metadata": {},
   "outputs": [
    {
     "name": "stdout",
     "output_type": "stream",
     "text": [
      "True\n"
     ]
    }
   ],
   "source": [
    "s=\"hello123\"\n",
    "print(s.islower())"
   ]
  },
  {
   "cell_type": "code",
   "execution_count": null,
   "id": "94bef976",
   "metadata": {},
   "outputs": [],
   "source": [
    "isupper()---> retuens if all characters are uppercase"
   ]
  },
  {
   "cell_type": "code",
   "execution_count": 27,
   "id": "0a5e42d0",
   "metadata": {},
   "outputs": [
    {
     "name": "stdout",
     "output_type": "stream",
     "text": [
      "True\n"
     ]
    }
   ],
   "source": [
    "s=\"HELLO\"\n",
    "print(s.isupper())"
   ]
  },
  {
   "cell_type": "code",
   "execution_count": 28,
   "id": "2ea8f15e",
   "metadata": {},
   "outputs": [
    {
     "name": "stdout",
     "output_type": "stream",
     "text": [
      "False\n"
     ]
    }
   ],
   "source": [
    "s=\"hello\"\n",
    "print(s.isupper())"
   ]
  },
  {
   "cell_type": "code",
   "execution_count": 29,
   "id": "ba7f3b28",
   "metadata": {},
   "outputs": [
    {
     "name": "stdout",
     "output_type": "stream",
     "text": [
      "True\n"
     ]
    }
   ],
   "source": [
    "s=\"HELLO@123\"\n",
    "print(s.isupper())"
   ]
  },
  {
   "cell_type": "code",
   "execution_count": null,
   "id": "380063b9",
   "metadata": {},
   "outputs": [],
   "source": [
    "istitle()--->returns true if give string is title case"
   ]
  },
  {
   "cell_type": "code",
   "execution_count": 31,
   "id": "f25203a8",
   "metadata": {},
   "outputs": [
    {
     "name": "stdout",
     "output_type": "stream",
     "text": [
      "True\n"
     ]
    }
   ],
   "source": [
    "s=\"Hello Good Morning\"\n",
    "print(s.istitle())"
   ]
  },
  {
   "cell_type": "code",
   "execution_count": 32,
   "id": "0baee75c",
   "metadata": {},
   "outputs": [
    {
     "name": "stdout",
     "output_type": "stream",
     "text": [
      "False\n"
     ]
    }
   ],
   "source": [
    "s=\"Hello good morning\"\n",
    "print(s.istitle())"
   ]
  },
  {
   "cell_type": "code",
   "execution_count": 33,
   "id": "8c93b633",
   "metadata": {},
   "outputs": [
    {
     "name": "stdout",
     "output_type": "stream",
     "text": [
      "True\n"
     ]
    }
   ],
   "source": [
    "s=\"Hello Good Morning@123\"\n",
    "print(s.istitle())"
   ]
  },
  {
   "cell_type": "code",
   "execution_count": null,
   "id": "a44251ec",
   "metadata": {},
   "outputs": [],
   "source": [
    "isspace()---> returns true if the string contains only spaces"
   ]
  },
  {
   "cell_type": "code",
   "execution_count": 34,
   "id": "8e16c697",
   "metadata": {},
   "outputs": [
    {
     "name": "stdout",
     "output_type": "stream",
     "text": [
      "False\n"
     ]
    }
   ],
   "source": [
    "s=\"Hello Good Morning\"\n",
    "print(s.isspace())"
   ]
  },
  {
   "cell_type": "code",
   "execution_count": 35,
   "id": "5203af1e",
   "metadata": {},
   "outputs": [
    {
     "name": "stdout",
     "output_type": "stream",
     "text": [
      "True\n"
     ]
    }
   ],
   "source": [
    "s=\"     \"\n",
    "print(s.isspace())"
   ]
  },
  {
   "cell_type": "code",
   "execution_count": 36,
   "id": "c5136445",
   "metadata": {},
   "outputs": [
    {
     "name": "stdout",
     "output_type": "stream",
     "text": [
      "False\n"
     ]
    }
   ],
   "source": [
    "s=\"   Hello Good Morning  \"\n",
    "print(s.isspace())"
   ]
  },
  {
   "cell_type": "markdown",
   "id": "81e8fdcb",
   "metadata": {},
   "source": [
    "# Formatting spaces"
   ]
  },
  {
   "cell_type": "code",
   "execution_count": 43,
   "id": "4c22565f",
   "metadata": {},
   "outputs": [
    {
     "name": "stdout",
     "output_type": "stream",
     "text": [
      "Jaswanth's salary is 10000 & his age is 48\n"
     ]
    }
   ],
   "source": [
    "name=\"Jaswanth\"\n",
    "salary=10000\n",
    "age=48\n",
    "print(\"{}'s salary is {} & his age is {}\".format(name,salary,age))"
   ]
  },
  {
   "cell_type": "code",
   "execution_count": 42,
   "id": "678e95f6",
   "metadata": {},
   "outputs": [
    {
     "name": "stdout",
     "output_type": "stream",
     "text": [
      "Jaswanth's salary is 10000 & his age is 48\n"
     ]
    }
   ],
   "source": [
    "name=\"Jaswanth\"\n",
    "salary=10000\n",
    "age=48\n",
    "print(\"{x}'s salary is {z} & his age is {y}\".format(x=name,z=salary,y=age))"
   ]
  },
  {
   "cell_type": "code",
   "execution_count": 44,
   "id": "4cbb5936",
   "metadata": {},
   "outputs": [
    {
     "name": "stdout",
     "output_type": "stream",
     "text": [
      "enter the name of employ:Jaswanth\n",
      "enter salary:15000\n",
      "enter age:25\n",
      "Jaswanth's salary is 15000 & his age is 25\n"
     ]
    }
   ],
   "source": [
    "name=input(\"enter the name of employ:\")\n",
    "salary=input(\"enter salary:\")\n",
    "age=input(\"enter age:\")\n",
    "print(\"{}'s salary is {} & his age is {}\".format(name,salary,age))"
   ]
  },
  {
   "cell_type": "code",
   "execution_count": null,
   "id": "22d18cdd",
   "metadata": {},
   "outputs": [],
   "source": []
  }
 ],
 "metadata": {
  "kernelspec": {
   "display_name": "Python 3",
   "language": "python",
   "name": "python3"
  },
  "language_info": {
   "codemirror_mode": {
    "name": "ipython",
    "version": 3
   },
   "file_extension": ".py",
   "mimetype": "text/x-python",
   "name": "python",
   "nbconvert_exporter": "python",
   "pygments_lexer": "ipython3",
   "version": "3.9.4"
  }
 },
 "nbformat": 4,
 "nbformat_minor": 5
}
