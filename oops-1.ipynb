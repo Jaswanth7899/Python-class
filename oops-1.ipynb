{
 "cells": [
  {
   "cell_type": "markdown",
   "metadata": {},
   "source": [
    "# We can modify static variable only with classname or cls variable"
   ]
  },
  {
   "cell_type": "code",
   "execution_count": 11,
   "metadata": {},
   "outputs": [
    {
     "name": "stdout",
     "output_type": "stream",
     "text": [
      "welcome to SBI BANK\n",
      "Enter your name:Jaswanth\n",
      "D- Deposit \n",
      " W- Withdraw \n",
      " E- Exit\n",
      "Choose your choiced\n",
      "Enter amount:500\n",
      "Balance after deposit: 500.0\n",
      "D- Deposit \n",
      " W- Withdraw \n",
      " E- Exit\n",
      "Choose your choicew\n",
      "Enter amount:1000\n",
      "Insufficient funds in your account...\n"
     ]
    },
    {
     "ename": "SystemExit",
     "evalue": "",
     "output_type": "error",
     "traceback": [
      "An exception has occurred, use %tb to see the full traceback.\n",
      "\u001b[1;31mSystemExit\u001b[0m\n"
     ]
    },
    {
     "name": "stderr",
     "output_type": "stream",
     "text": [
      "C:\\Users\\Mallesh\\anaconda3\\lib\\site-packages\\IPython\\core\\interactiveshell.py:3426: UserWarning: To exit: use 'exit', 'quit', or Ctrl-D.\n",
      "  warn(\"To exit: use 'exit', 'quit', or Ctrl-D.\", stacklevel=1)\n"
     ]
    }
   ],
   "source": [
    "import sys\n",
    "class Customer:\n",
    "    Bankname=\"SBI BANK\"\n",
    "    def __init__(self,name,balance=0.0):\n",
    "        self.name=name\n",
    "        self.balance=balance\n",
    "    def deposit(self,amount):\n",
    "        self.balance=self.balance+amount\n",
    "        print(\"Balance after deposit:\",self.balance)\n",
    "    def withdraw(self,amount):\n",
    "        if amount>self.balance:\n",
    "            print(\"Insufficient funds in your account...\")\n",
    "            sys.exit()\n",
    "        else:\n",
    "            self.balance=self.balance-amount\n",
    "            print(\"Blance after withdraw:\",self.balance)\n",
    "            \n",
    "print(\"welcome to\",Customer.Bankname)\n",
    "name=input(\"Enter your name:\")\n",
    "c=Customer(name)\n",
    "while True:\n",
    "    print(\"D- Deposit \\n W- Withdraw \\n E- Exit\")\n",
    "    option=input(\"Choose your choice\")\n",
    "    if option=='D' or option=='d':\n",
    "        amount=float(input(\"Enter amount:\"))\n",
    "        c.deposit(amount)\n",
    "    elif option==\"W\" or option==\"w\":\n",
    "        amount=int(input(\"Enter amount:\"))\n",
    "        c.withdraw(amount)\n",
    "    elif option==\"E\" or option==\"e\":\n",
    "        print(\"Thanks for banking with SBI\")\n",
    "        sys.exit()\n",
    "    else:\n",
    "        print(\"Invalid option..Pleasw choose valid option to process\")"
   ]
  },
  {
   "cell_type": "markdown",
   "metadata": {},
   "source": [
    "# types of method"
   ]
  },
  {
   "cell_type": "code",
   "execution_count": null,
   "metadata": {},
   "outputs": [],
   "source": [
    "1.Instance method\n",
    "2.Class method\n",
    "3.Static method"
   ]
  },
  {
   "cell_type": "markdown",
   "metadata": {},
   "source": [
    "# 1.Instance method"
   ]
  },
  {
   "cell_type": "code",
   "execution_count": null,
   "metadata": {},
   "outputs": [],
   "source": [
    "Inside method implementation if we are using instance variables then such type of method are called instance methods\n",
    "Inside instance method decleration, we have top pass self variable.example:de m(self):\n",
    "By using self variable inside method we can able acess instance variable.\n"
   ]
  },
  {
   "cell_type": "code",
   "execution_count": 1,
   "metadata": {},
   "outputs": [
    {
     "name": "stdout",
     "output_type": "stream",
     "text": [
      "enter number of students1\n",
      "Enter student name:sunny\n",
      "Enter student marks50\n",
      "Student name: sunny\n",
      "Student marks: 50\n",
      "You got B grade\n"
     ]
    }
   ],
   "source": [
    "#Example program for instance methods\n",
    "class Student:\n",
    "    def __init__(self,name,marks):\n",
    "        self.name=name\n",
    "        self.marks=marks\n",
    "    def display(self):\n",
    "        print(\"Student name:\",self.name)\n",
    "        print(\"Student marks:\",self.marks)\n",
    "    def Grade(self):\n",
    "        if self.marks<40:\n",
    "            print(\"You are Failed\")\n",
    "        elif self.marks>=40 and self.marks<50:\n",
    "            print(\"You got c grade\")\n",
    "        elif self.marks>=50 and self.marks<60:\n",
    "            print(\"You got B grade\")\n",
    "        elif self.marks>=60 and self.marks<70:\n",
    "            print(\"You got A grade\")\n",
    "        elif self.marks>=70 and self.marks<=100:\n",
    "            print(\"You got O grade\")\n",
    "        else:\n",
    "            print(\"Enterd wrong marks\")\n",
    "n=int(input(\"enter number of students\"))\n",
    "for i in range(n):\n",
    "    name=input(\"Enter student name:\")\n",
    "    marks=int(input(\"Enter student marks\"))\n",
    "    s=Student(name,marks)\n",
    "    s.display()\n",
    "    s.Grade()"
   ]
  },
  {
   "cell_type": "markdown",
   "metadata": {},
   "source": [
    "# 2.Class Method"
   ]
  },
  {
   "cell_type": "code",
   "execution_count": null,
   "metadata": {},
   "outputs": [],
   "source": [
    "1.Inside the method implementation if we are using class variable (static variable) then such method are called class method\n",
    "2.we can declare class method explicitly by using @classmethod decorator\n",
    "3.For class method we should provide cls variable at the time of decleration\n",
    "4.we can call classmethod by using classname or object reference variable"
   ]
  },
  {
   "cell_type": "code",
   "execution_count": 3,
   "metadata": {},
   "outputs": [
    {
     "name": "stdout",
     "output_type": "stream",
     "text": [
      "sunny walks with 4 legs\n",
      "sunny walks with 4 legs\n"
     ]
    }
   ],
   "source": [
    "#Examle program for class method\n",
    "class Animal:\n",
    "    legs=4 #static varible\n",
    "    @classmethod\n",
    "    def m(cls,legs):\n",
    "        print(\"{} walks with {} legs\".format(name,cls.legs))\n",
    "Animal.m(\"Dog\")\n",
    "a=Animal()\n",
    "a.m(\"Cat\")"
   ]
  },
  {
   "cell_type": "code",
   "execution_count": 6,
   "metadata": {},
   "outputs": [
    {
     "name": "stdout",
     "output_type": "stream",
     "text": [
      "This is classmethod without decorator: 4\n"
     ]
    }
   ],
   "source": [
    "#Examle program for class method\n",
    "class Animal:\n",
    "    legs=4 #static varible\n",
    "    def m(cls):\n",
    "        print(\"This is classmethod without decorator:\",cls.legs)\n",
    "Animal.m=classmethod(Animal.m)\n",
    "Animal.m()\n"
   ]
  },
  {
   "cell_type": "markdown",
   "metadata": {},
   "source": [
    "# 3.Static method"
   ]
  },
  {
   "cell_type": "code",
   "execution_count": null,
   "metadata": {},
   "outputs": [],
   "source": [
    "1. While we creating static method we will not use either cls variable or self variable.\n",
    "2. We can create static method with @staticmethod decorator.\n",
    "3. We can acess the static method by using classname or object refrence varible"
   ]
  },
  {
   "cell_type": "code",
   "execution_count": 8,
   "metadata": {},
   "outputs": [
    {
     "name": "stdout",
     "output_type": "stream",
     "text": [
      "This is static method cls or self variable\n",
      "Add of a,b is : 30\n",
      "Add of a,b is : 11\n"
     ]
    }
   ],
   "source": [
    "#Example program for static method\n",
    "class Test:\n",
    "    @staticmethod\n",
    "    def m():\n",
    "        print(\"This is static method cls or self variable\")\n",
    "    @staticmethod\n",
    "    def m1(a,b):\n",
    "        print(\"Add of a,b is :\",a+b)\n",
    "Test.m()\n",
    "t=Test()\n",
    "t.m1(10,20)\n",
    "Test.m1(5,6)"
   ]
  },
  {
   "cell_type": "code",
   "execution_count": null,
   "metadata": {},
   "outputs": [],
   "source": []
  }
 ],
 "metadata": {
  "kernelspec": {
   "display_name": "Python 3",
   "language": "python",
   "name": "python3"
  },
  "language_info": {
   "codemirror_mode": {
    "name": "ipython",
    "version": 3
   },
   "file_extension": ".py",
   "mimetype": "text/x-python",
   "name": "python",
   "nbconvert_exporter": "python",
   "pygments_lexer": "ipython3",
   "version": "3.8.5"
  }
 },
 "nbformat": 4,
 "nbformat_minor": 4
}
