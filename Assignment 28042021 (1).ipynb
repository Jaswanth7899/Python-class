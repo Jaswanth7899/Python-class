{
 "cells": [
  {
   "cell_type": "markdown",
   "id": "635460a0",
   "metadata": {},
   "source": [
    "# write a program to reverse the given string"
   ]
  },
  {
   "cell_type": "code",
   "execution_count": 10,
   "id": "afef4709",
   "metadata": {},
   "outputs": [
    {
     "name": "stdout",
     "output_type": "stream",
     "text": [
      "enter string:jaswanth\n",
      "htnawsaj"
     ]
    }
   ],
   "source": [
    "a=input(\"enter string:\")\n",
    "for i in range((len(a)-1),-1,-1):\n",
    "    print(a[i],end=\"\")"
   ]
  },
  {
   "cell_type": "markdown",
   "id": "cfc30f85",
   "metadata": {},
   "source": [
    "# write a program to reverse order of words"
   ]
  },
  {
   "cell_type": "code",
   "execution_count": 13,
   "id": "f4181783",
   "metadata": {},
   "outputs": [
    {
     "name": "stdout",
     "output_type": "stream",
     "text": [
      "Jaswanth Bezawada is This Hi\n"
     ]
    }
   ],
   "source": [
    "string = \"Hi This is Bezawada Jaswanth\"\n",
    "words = string.split()\n",
    "words = list(reversed(words))\n",
    "print(\" \".join(words))"
   ]
  },
  {
   "cell_type": "markdown",
   "id": "a7b893bd",
   "metadata": {},
   "source": [
    "# program to reverse internal content of each word"
   ]
  },
  {
   "cell_type": "code",
   "execution_count": 20,
   "id": "f51ed163",
   "metadata": {},
   "outputs": [
    {
     "name": "stdout",
     "output_type": "stream",
     "text": [
      "['Hello', 'bezawada', 'jaswanth']\n",
      "['jaswanth', 'bezawada', 'Hello']\n",
      "jaswanth bezawada Hello\n"
     ]
    }
   ],
   "source": [
    "s=\"Hello bezawada jaswanth\"\n",
    "l=s.split()\n",
    "print(l)\n",
    "s1=list(reversed(l))\n",
    "print(s1)\n",
    "s2=\" \".join(s1)\n",
    "print(s2)"
   ]
  },
  {
   "cell_type": "markdown",
   "id": "5dad7c02",
   "metadata": {},
   "source": [
    "# write a program to print characters at odd position and even postion for the given string"
   ]
  },
  {
   "cell_type": "code",
   "execution_count": 24,
   "id": "601cf584",
   "metadata": {},
   "outputs": [
    {
     "name": "stdout",
     "output_type": "stream",
     "text": [
      "enter stringhello good morning\n",
      "odd position: hlogo onn\n",
      "even position: el odmrig\n"
     ]
    }
   ],
   "source": [
    "s=input(\"enter string\")\n",
    "print(\"odd position:\",s[0::2])\n",
    "print(\"even position:\",s[1::2])"
   ]
  },
  {
   "cell_type": "code",
   "execution_count": null,
   "id": "a68ed2db",
   "metadata": {},
   "outputs": [],
   "source": []
  },
  {
   "cell_type": "markdown",
   "id": "1f8ac8b1",
   "metadata": {},
   "source": [
    "# program to merge characters of 2 strings into single string by taking charaters alternatively"
   ]
  },
  {
   "cell_type": "code",
   "execution_count": 28,
   "id": "bd229c41",
   "metadata": {},
   "outputs": [
    {
     "name": "stdout",
     "output_type": "stream",
     "text": [
      "enter 1st stringvny\n",
      "enter 2nd stringek\n",
      "venky\n"
     ]
    }
   ],
   "source": [
    "s1=input(\"enter 1st string\")\n",
    "s2=input(\"enter 2nd string\")\n",
    "output=\"\"\n",
    "i=0\n",
    "j=0\n",
    "while i<len(s1) or j<len(s2):\n",
    "    if i<len(s1):\n",
    "        output=output+s1[i]\n",
    "        i+=1\n",
    "    if j<len(s2):\n",
    "        output=output+s2[j]\n",
    "        j+=1\n",
    "print(output)"
   ]
  },
  {
   "cell_type": "code",
   "execution_count": null,
   "id": "f898ff5d",
   "metadata": {},
   "outputs": [],
   "source": []
  }
 ],
 "metadata": {
  "kernelspec": {
   "display_name": "Python 3",
   "language": "python",
   "name": "python3"
  },
  "language_info": {
   "codemirror_mode": {
    "name": "ipython",
    "version": 3
   },
   "file_extension": ".py",
   "mimetype": "text/x-python",
   "name": "python",
   "nbconvert_exporter": "python",
   "pygments_lexer": "ipython3",
   "version": "3.9.4"
  }
 },
 "nbformat": 4,
 "nbformat_minor": 5
}
