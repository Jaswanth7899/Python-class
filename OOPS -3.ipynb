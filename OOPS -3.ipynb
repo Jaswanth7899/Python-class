{
 "cells": [
  {
   "cell_type": "markdown",
   "metadata": {},
   "source": [
    "# POLYMORPHISM"
   ]
  },
  {
   "cell_type": "code",
   "execution_count": null,
   "metadata": {},
   "outputs": [],
   "source": [
    "Poly means many and morphs means forms\n",
    "Polymorphism means many forms"
   ]
  },
  {
   "cell_type": "code",
   "execution_count": null,
   "metadata": {},
   "outputs": [],
   "source": [
    "Example: Student behaviour different at different situations like infront of the friends, infront of parents,\n",
    "    infront of the Teachers will be different."
   ]
  },
  {
   "cell_type": "code",
   "execution_count": null,
   "metadata": {},
   "outputs": [],
   "source": [
    "Ex: + ---> operator acts as arithmetic addition or concatination for strings\n",
    "\n",
    "Ex: * ---> Operator acts as multiplication or repetition operator."
   ]
  },
  {
   "cell_type": "code",
   "execution_count": null,
   "metadata": {},
   "outputs": [],
   "source": [
    "Ex: The same method with different implementations in parent class and child classes.(Overriding)"
   ]
  },
  {
   "cell_type": "markdown",
   "metadata": {},
   "source": [
    "# 1. Duck Yping Philosophy\n"
   ]
  },
  {
   "cell_type": "code",
   "execution_count": null,
   "metadata": {},
   "outputs": [],
   "source": [
    "IN Python we connot specify the type explicitly. Data type is decided basedon the value what we assign to the variable."
   ]
  },
  {
   "cell_type": "code",
   "execution_count": 1,
   "metadata": {},
   "outputs": [
    {
     "name": "stdout",
     "output_type": "stream",
     "text": [
      "Quack... Quack....\n",
      " Moew.... Moew.....\n",
      "Bow.... Bow....\n"
     ]
    }
   ],
   "source": [
    "#example program\n",
    "class Duck:\n",
    "    def talk(self):\n",
    "        print(\"Quack... Quack....\")\n",
    "class Dog:\n",
    "    def talk(self):\n",
    "        print(\"Bow.... Bow....\")\n",
    "class Cat:\n",
    "    def talk(self):\n",
    "        print(\" Moew.... Moew.....\")\n",
    "\n",
    "def f1(obj):\n",
    "    obj.talk()\n",
    "    \n",
    "l=[Duck(),Cat(),Dog()]\n",
    "for obj in l:\n",
    "    f1(obj)"
   ]
  },
  {
   "cell_type": "code",
   "execution_count": 2,
   "metadata": {},
   "outputs": [
    {
     "name": "stdout",
     "output_type": "stream",
     "text": [
      "Quack... Quack....\n",
      " Moew.... Moew.....\n"
     ]
    },
    {
     "ename": "AttributeError",
     "evalue": "'Dog' object has no attribute 'talk'",
     "output_type": "error",
     "traceback": [
      "\u001b[1;31m---------------------------------------------------------------------------\u001b[0m",
      "\u001b[1;31mAttributeError\u001b[0m                            Traceback (most recent call last)",
      "\u001b[1;32m<ipython-input-2-a829c67d869c>\u001b[0m in \u001b[0;36m<module>\u001b[1;34m\u001b[0m\n\u001b[0;32m     15\u001b[0m \u001b[0ml\u001b[0m\u001b[1;33m=\u001b[0m\u001b[1;33m[\u001b[0m\u001b[0mDuck\u001b[0m\u001b[1;33m(\u001b[0m\u001b[1;33m)\u001b[0m\u001b[1;33m,\u001b[0m\u001b[0mCat\u001b[0m\u001b[1;33m(\u001b[0m\u001b[1;33m)\u001b[0m\u001b[1;33m,\u001b[0m\u001b[0mDog\u001b[0m\u001b[1;33m(\u001b[0m\u001b[1;33m)\u001b[0m\u001b[1;33m]\u001b[0m\u001b[1;33m\u001b[0m\u001b[1;33m\u001b[0m\u001b[0m\n\u001b[0;32m     16\u001b[0m \u001b[1;32mfor\u001b[0m \u001b[0mobj\u001b[0m \u001b[1;32min\u001b[0m \u001b[0ml\u001b[0m\u001b[1;33m:\u001b[0m\u001b[1;33m\u001b[0m\u001b[1;33m\u001b[0m\u001b[0m\n\u001b[1;32m---> 17\u001b[1;33m     \u001b[0mf1\u001b[0m\u001b[1;33m(\u001b[0m\u001b[0mobj\u001b[0m\u001b[1;33m)\u001b[0m\u001b[1;33m\u001b[0m\u001b[1;33m\u001b[0m\u001b[0m\n\u001b[0m",
      "\u001b[1;32m<ipython-input-2-a829c67d869c>\u001b[0m in \u001b[0;36mf1\u001b[1;34m(obj)\u001b[0m\n\u001b[0;32m     11\u001b[0m \u001b[1;33m\u001b[0m\u001b[0m\n\u001b[0;32m     12\u001b[0m \u001b[1;32mdef\u001b[0m \u001b[0mf1\u001b[0m\u001b[1;33m(\u001b[0m\u001b[0mobj\u001b[0m\u001b[1;33m)\u001b[0m\u001b[1;33m:\u001b[0m\u001b[1;33m\u001b[0m\u001b[1;33m\u001b[0m\u001b[0m\n\u001b[1;32m---> 13\u001b[1;33m     \u001b[0mobj\u001b[0m\u001b[1;33m.\u001b[0m\u001b[0mtalk\u001b[0m\u001b[1;33m(\u001b[0m\u001b[1;33m)\u001b[0m\u001b[1;33m\u001b[0m\u001b[1;33m\u001b[0m\u001b[0m\n\u001b[0m\u001b[0;32m     14\u001b[0m \u001b[1;33m\u001b[0m\u001b[0m\n\u001b[0;32m     15\u001b[0m \u001b[0ml\u001b[0m\u001b[1;33m=\u001b[0m\u001b[1;33m[\u001b[0m\u001b[0mDuck\u001b[0m\u001b[1;33m(\u001b[0m\u001b[1;33m)\u001b[0m\u001b[1;33m,\u001b[0m\u001b[0mCat\u001b[0m\u001b[1;33m(\u001b[0m\u001b[1;33m)\u001b[0m\u001b[1;33m,\u001b[0m\u001b[0mDog\u001b[0m\u001b[1;33m(\u001b[0m\u001b[1;33m)\u001b[0m\u001b[1;33m]\u001b[0m\u001b[1;33m\u001b[0m\u001b[1;33m\u001b[0m\u001b[0m\n",
      "\u001b[1;31mAttributeError\u001b[0m: 'Dog' object has no attribute 'talk'"
     ]
    }
   ],
   "source": [
    "#example program\n",
    "class Duck:\n",
    "    def talk(self):\n",
    "        print(\"Quack... Quack....\")\n",
    "class Dog:\n",
    "    def bark(self):\n",
    "        print(\"Bow.... Bow....\")\n",
    "class Cat:\n",
    "    def talk(self):\n",
    "        print(\" Moew.... Moew.....\")\n",
    "\n",
    "def f1(obj):\n",
    "    obj.talk()\n",
    "    \n",
    "l=[Duck(),Cat(),Dog()]\n",
    "for obj in l:\n",
    "    f1(obj)"
   ]
  },
  {
   "cell_type": "code",
   "execution_count": null,
   "metadata": {},
   "outputs": [],
   "source": [
    "We can solve the above problem of attributeError by using hasattr(obj,\"Attributename\")  .\n",
    "Attributename can be Methodname or variablename"
   ]
  },
  {
   "cell_type": "code",
   "execution_count": 3,
   "metadata": {},
   "outputs": [
    {
     "name": "stdout",
     "output_type": "stream",
     "text": [
      "Quack... Quack....\n",
      " Moew.... Moew.....\n",
      "Bow.... Bow....\n"
     ]
    }
   ],
   "source": [
    "\n",
    "#example program\n",
    "class Duck:\n",
    "    def talk(self):\n",
    "        print(\"Quack... Quack....\")\n",
    "class Dog:\n",
    "    def bark(self):\n",
    "        print(\"Bow.... Bow....\")\n",
    "class Cat:\n",
    "    def talk(self):\n",
    "        print(\" Moew.... Moew.....\")\n",
    "\n",
    "def f1(obj):\n",
    "    if hasattr(obj,'talk'):\n",
    "        obj.talk()\n",
    "    elif hasattr(obj,\"bark\"):\n",
    "        obj.bark()\n",
    "    \n",
    "    \n",
    "l=[Duck(),Cat(),Dog()]\n",
    "for obj in l:\n",
    "    f1(obj)"
   ]
  },
  {
   "cell_type": "markdown",
   "metadata": {},
   "source": [
    "# 2. Overloading"
   ]
  },
  {
   "cell_type": "code",
   "execution_count": null,
   "metadata": {},
   "outputs": [],
   "source": [
    "We can use same operator or method for different purposes."
   ]
  },
  {
   "cell_type": "code",
   "execution_count": 4,
   "metadata": {},
   "outputs": [
    {
     "name": "stdout",
     "output_type": "stream",
     "text": [
      "30\n",
      "venkynaidu\n"
     ]
    }
   ],
   "source": [
    "#Example +\n",
    "print(10+20)\n",
    "print(\"venky\"+\"naidu\")"
   ]
  },
  {
   "cell_type": "code",
   "execution_count": 5,
   "metadata": {},
   "outputs": [
    {
     "name": "stdout",
     "output_type": "stream",
     "text": [
      "20\n",
      "HelloHelloHello\n"
     ]
    }
   ],
   "source": [
    "#Example *\n",
    "print(5*4)\n",
    "print(\"Hello\"*3)"
   ]
  },
  {
   "cell_type": "code",
   "execution_count": null,
   "metadata": {},
   "outputs": [],
   "source": [
    "#method example\n",
    "deposit(cash)\n",
    "deposit(Cheque)\n",
    "deposit(DD)"
   ]
  },
  {
   "cell_type": "code",
   "execution_count": null,
   "metadata": {},
   "outputs": [],
   "source": [
    "There are 3types of overloading"
   ]
  },
  {
   "cell_type": "code",
   "execution_count": null,
   "metadata": {},
   "outputs": [],
   "source": [
    "1. Operator Overloading\n",
    "2. Method Overloading\n",
    "3. Constructor Overloading"
   ]
  },
  {
   "cell_type": "markdown",
   "metadata": {},
   "source": [
    "# 1. Operator Overloading"
   ]
  },
  {
   "cell_type": "code",
   "execution_count": 7,
   "metadata": {},
   "outputs": [
    {
     "name": "stdout",
     "output_type": "stream",
     "text": [
      "30\n",
      "venkynaidu\n"
     ]
    }
   ],
   "source": [
    "#Example +\n",
    "print(10+20)\n",
    "print(\"venky\"+\"naidu\")"
   ]
  },
  {
   "cell_type": "code",
   "execution_count": 8,
   "metadata": {},
   "outputs": [
    {
     "name": "stdout",
     "output_type": "stream",
     "text": [
      "20\n",
      "HelloHelloHello\n"
     ]
    }
   ],
   "source": [
    "#Example *\n",
    "print(5*4)\n",
    "print(\"Hello\"*3)"
   ]
  },
  {
   "cell_type": "code",
   "execution_count": 9,
   "metadata": {},
   "outputs": [
    {
     "ename": "TypeError",
     "evalue": "unsupported operand type(s) for +: 'Book' and 'Book'",
     "output_type": "error",
     "traceback": [
      "\u001b[1;31m---------------------------------------------------------------------------\u001b[0m",
      "\u001b[1;31mTypeError\u001b[0m                                 Traceback (most recent call last)",
      "\u001b[1;32m<ipython-input-9-a994a341a303>\u001b[0m in \u001b[0;36m<module>\u001b[1;34m\u001b[0m\n\u001b[0;32m      7\u001b[0m \u001b[0mb2\u001b[0m\u001b[1;33m=\u001b[0m\u001b[0mBook\u001b[0m\u001b[1;33m(\u001b[0m\u001b[1;36m200\u001b[0m\u001b[1;33m)\u001b[0m\u001b[1;33m\u001b[0m\u001b[1;33m\u001b[0m\u001b[0m\n\u001b[0;32m      8\u001b[0m \u001b[1;33m\u001b[0m\u001b[0m\n\u001b[1;32m----> 9\u001b[1;33m \u001b[0mprint\u001b[0m\u001b[1;33m(\u001b[0m\u001b[0mb1\u001b[0m\u001b[1;33m+\u001b[0m\u001b[0mb2\u001b[0m\u001b[1;33m)\u001b[0m\u001b[1;33m\u001b[0m\u001b[1;33m\u001b[0m\u001b[0m\n\u001b[0m",
      "\u001b[1;31mTypeError\u001b[0m: unsupported operand type(s) for +: 'Book' and 'Book'"
     ]
    }
   ],
   "source": [
    "#Example\n",
    "class Book:\n",
    "    def __init__(self,pages):\n",
    "        self.pages=pages\n",
    "    \n",
    "b1=Book(100)\n",
    "b2=Book(200)\n",
    "\n",
    "print(b1+b2)"
   ]
  },
  {
   "cell_type": "code",
   "execution_count": null,
   "metadata": {},
   "outputs": [],
   "source": [
    "We can solve this problem by using inbuilt magic methods"
   ]
  },
  {
   "cell_type": "code",
   "execution_count": 10,
   "metadata": {},
   "outputs": [
    {
     "name": "stdout",
     "output_type": "stream",
     "text": [
      "300\n"
     ]
    }
   ],
   "source": [
    "class Book:\n",
    "    def __init__(self,pages):\n",
    "        self.pages=pages\n",
    "    def __add__(self,other):\n",
    "        return self.pages+other.pages\n",
    "b1=Book(100)\n",
    "b2=Book(200)\n",
    "print(b1+b2)"
   ]
  },
  {
   "cell_type": "markdown",
   "metadata": {},
   "source": [
    "# List of Operator overloading magic methods"
   ]
  },
  {
   "cell_type": "code",
   "execution_count": null,
   "metadata": {},
   "outputs": [],
   "source": [
    "1) + ------> object.__add__(self,other)\n",
    "2) - ------> object.__sub__(self,other)\n",
    "3) * ------> object.__mul__(self,other)\n",
    "4) / ------> object.__div__(self,other)\n",
    "5) // -----> object.__floordiv__(self,other)\n",
    "6) % ------> object.__mod__(self,other)\n",
    "7) ** -----> object.__pow__(self,other)\n",
    "8) += ---->  object.__iadd__(self,other)\n",
    "9) -= ------> object.__isub__(self,other\n",
    "                              \n",
    "                              \n",
    "                              \n",
    "                              \n",
    "x) < -----> object.__lt__(self,other)\n",
    "y)  <= -----> object.__le__(self,other)\n",
    "p)> -----> object.__gt__(self,other)\n",
    "q)>= -----> object.__ge__(self,other"
   ]
  },
  {
   "cell_type": "markdown",
   "metadata": {},
   "source": [
    "# 2) Method Overloading"
   ]
  },
  {
   "cell_type": "code",
   "execution_count": null,
   "metadata": {},
   "outputs": [],
   "source": [
    "if we have two methods with different parameters in the same class then that concept is called method overloading"
   ]
  },
  {
   "cell_type": "code",
   "execution_count": 11,
   "metadata": {},
   "outputs": [
    {
     "name": "stdout",
     "output_type": "stream",
     "text": [
      "Method with two arguments\n"
     ]
    }
   ],
   "source": [
    "#example for methodoverloading\n",
    "class Test:\n",
    "    def m1(self):\n",
    "        print(\"Method without arguments\")\n",
    "    def m1(self,a):\n",
    "        print(\"Method with one argument\")\n",
    "    def m1(self,a,b):\n",
    "        print(\"Method with two arguments\")\n",
    "t=Test()\n",
    "#t.m1()\n",
    "#t.m1(10)\n",
    "t.m1(10,20)"
   ]
  },
  {
   "cell_type": "code",
   "execution_count": 12,
   "metadata": {},
   "outputs": [
    {
     "name": "stdout",
     "output_type": "stream",
     "text": [
      "Method without arguments\n"
     ]
    }
   ],
   "source": [
    "\n",
    "#example for methodoverloading\n",
    "class Test:\n",
    "    \n",
    "    def m1(self,a):\n",
    "        print(\"Method with one argument\")\n",
    "    def m1(self,a,b):\n",
    "        print(\"Method with two arguments\")\n",
    "    def m1(self):\n",
    "        print(\"Method without arguments\")\n",
    "t=Test()\n",
    "t.m1()\n",
    "#t.m1(10)\n",
    "#t.m1(10,20)"
   ]
  },
  {
   "cell_type": "code",
   "execution_count": 13,
   "metadata": {},
   "outputs": [
    {
     "ename": "TypeError",
     "evalue": "sum() takes from 1 to 4 positional arguments but 5 were given",
     "output_type": "error",
     "traceback": [
      "\u001b[1;31m---------------------------------------------------------------------------\u001b[0m",
      "\u001b[1;31mTypeError\u001b[0m                                 Traceback (most recent call last)",
      "\u001b[1;32m<ipython-input-13-4b56f543a113>\u001b[0m in \u001b[0;36m<module>\u001b[1;34m\u001b[0m\n\u001b[0;32m     13\u001b[0m \u001b[1;31m#t.sum(10,20)\u001b[0m\u001b[1;33m\u001b[0m\u001b[1;33m\u001b[0m\u001b[1;33m\u001b[0m\u001b[0m\n\u001b[0;32m     14\u001b[0m \u001b[1;31m#t.sum(10,20,30)\u001b[0m\u001b[1;33m\u001b[0m\u001b[1;33m\u001b[0m\u001b[1;33m\u001b[0m\u001b[0m\n\u001b[1;32m---> 15\u001b[1;33m \u001b[0mt\u001b[0m\u001b[1;33m.\u001b[0m\u001b[0msum\u001b[0m\u001b[1;33m(\u001b[0m\u001b[1;36m10\u001b[0m\u001b[1;33m,\u001b[0m\u001b[1;36m20\u001b[0m\u001b[1;33m,\u001b[0m\u001b[1;36m30\u001b[0m\u001b[1;33m,\u001b[0m\u001b[1;36m40\u001b[0m\u001b[1;33m)\u001b[0m\u001b[1;33m\u001b[0m\u001b[1;33m\u001b[0m\u001b[0m\n\u001b[0m",
      "\u001b[1;31mTypeError\u001b[0m: sum() takes from 1 to 4 positional arguments but 5 were given"
     ]
    }
   ],
   "source": [
    "\n",
    "#example proram of method overloading with default arguements\n",
    "class Test:\n",
    "    def sum(self,a=None,b=None,c=None):\n",
    "        if a!=None and b!=None and c!=None:\n",
    "            print(\"THe sum of 3 numebrs is:\",a+b+c)\n",
    "        elif a!=None and b!=None:\n",
    "            print(\"The sum of 2 numbers is :\",a+b)\n",
    "        else:\n",
    "            print(\"Please provide 2 or 3 numbers to perform addition:\")\n",
    "t=Test()\n",
    "#t.sum()\n",
    "#t.sum(10)\n",
    "#t.sum(10,20)\n",
    "#t.sum(10,20,30)\n",
    "t.sum(10,20,30,40)"
   ]
  },
  {
   "cell_type": "code",
   "execution_count": 14,
   "metadata": {},
   "outputs": [
    {
     "name": "stdout",
     "output_type": "stream",
     "text": [
      "Sum is:  280\n"
     ]
    }
   ],
   "source": [
    "#Example with varaible length of arguments\n",
    "class Test:\n",
    "    def sum(self,*a):\n",
    "        total=0\n",
    "        for x in a:\n",
    "            total=total+x\n",
    "        print(\"Sum is: \",total)\n",
    "t=Test()\n",
    "#t.sum()\n",
    "#t.sum(10)\n",
    "#t.sum(10,20)\n",
    "t.sum(10,20,30,40,50,60,70)"
   ]
  },
  {
   "cell_type": "markdown",
   "metadata": {},
   "source": [
    "# 3) Constructor Overloading"
   ]
  },
  {
   "cell_type": "code",
   "execution_count": null,
   "metadata": {},
   "outputs": [],
   "source": [
    "constructor overloading is not possible in python\n",
    "if we write multiple constructors then it will consider last constructor only."
   ]
  },
  {
   "cell_type": "code",
   "execution_count": 16,
   "metadata": {},
   "outputs": [
    {
     "name": "stdout",
     "output_type": "stream",
     "text": [
      "Two argument constructor\n"
     ]
    }
   ],
   "source": [
    "#example Program\n",
    "class Test:\n",
    "    def __init__(self):\n",
    "        print(\"No argument constructor\")\n",
    "    def __init__(self,a):\n",
    "        print(\"One argument constructor\")\n",
    "    def __init__(self,a,b):\n",
    "        print(\"Two argument constructor\")\n",
    "#t=Test()\n",
    "#t=Test(10)\n",
    "t=Test(10,20)"
   ]
  },
  {
   "cell_type": "markdown",
   "metadata": {},
   "source": [
    "### constructor overloading with default arguments\n"
   ]
  },
  {
   "cell_type": "code",
   "execution_count": 17,
   "metadata": {},
   "outputs": [
    {
     "ename": "TypeError",
     "evalue": "__init__() takes from 1 to 3 positional arguments but 5 were given",
     "output_type": "error",
     "traceback": [
      "\u001b[1;31m---------------------------------------------------------------------------\u001b[0m",
      "\u001b[1;31mTypeError\u001b[0m                                 Traceback (most recent call last)",
      "\u001b[1;32m<ipython-input-17-871296a70084>\u001b[0m in \u001b[0;36m<module>\u001b[1;34m\u001b[0m\n\u001b[0;32m      7\u001b[0m \u001b[1;31m#t=Test(10)\u001b[0m\u001b[1;33m\u001b[0m\u001b[1;33m\u001b[0m\u001b[1;33m\u001b[0m\u001b[0m\n\u001b[0;32m      8\u001b[0m \u001b[1;31m#t=Test(10,20)\u001b[0m\u001b[1;33m\u001b[0m\u001b[1;33m\u001b[0m\u001b[1;33m\u001b[0m\u001b[0m\n\u001b[1;32m----> 9\u001b[1;33m \u001b[0mt\u001b[0m\u001b[1;33m=\u001b[0m\u001b[0mTest\u001b[0m\u001b[1;33m(\u001b[0m\u001b[1;36m10\u001b[0m\u001b[1;33m,\u001b[0m\u001b[1;36m20\u001b[0m\u001b[1;33m,\u001b[0m\u001b[1;36m30\u001b[0m\u001b[1;33m,\u001b[0m\u001b[1;36m40\u001b[0m\u001b[1;33m)\u001b[0m\u001b[1;33m\u001b[0m\u001b[1;33m\u001b[0m\u001b[0m\n\u001b[0m",
      "\u001b[1;31mTypeError\u001b[0m: __init__() takes from 1 to 3 positional arguments but 5 were given"
     ]
    }
   ],
   "source": [
    "#example Program\n",
    "class Test:\n",
    "    \n",
    "    def __init__(self,a=None,b=None):\n",
    "        print(\"Two argument constructor\")\n",
    "#t=Test()\n",
    "#t=Test(10)\n",
    "#t=Test(10,20)\n",
    "t=Test(10,20,30,40)"
   ]
  },
  {
   "cell_type": "markdown",
   "metadata": {},
   "source": [
    "# Constructor with variable length of arguments\n"
   ]
  },
  {
   "cell_type": "code",
   "execution_count": 18,
   "metadata": {},
   "outputs": [
    {
     "name": "stdout",
     "output_type": "stream",
     "text": [
      "No argument constructor\n"
     ]
    }
   ],
   "source": [
    "#example Program\n",
    "class Test:\n",
    "    def __init__(self,*n):\n",
    "        print(\"No argument constructor\")\n",
    "    \n",
    "#t=Test()\n",
    "#t=Test(10)\n",
    "#t=Test(10,20)\n",
    "t=Test(10,20,30,40,50)"
   ]
  },
  {
   "cell_type": "code",
   "execution_count": null,
   "metadata": {},
   "outputs": [],
   "source": []
  }
 ],
 "metadata": {
  "kernelspec": {
   "display_name": "Python 3",
   "language": "python",
   "name": "python3"
  },
  "language_info": {
   "codemirror_mode": {
    "name": "ipython",
    "version": 3
   },
   "file_extension": ".py",
   "mimetype": "text/x-python",
   "name": "python",
   "nbconvert_exporter": "python",
   "pygments_lexer": "ipython3",
   "version": "3.8.5"
  }
 },
 "nbformat": 4,
 "nbformat_minor": 4
}
