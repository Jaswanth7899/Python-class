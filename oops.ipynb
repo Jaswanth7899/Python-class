{
 "cells": [
  {
   "cell_type": "code",
   "execution_count": 1,
   "metadata": {},
   "outputs": [
    {
     "name": "stdout",
     "output_type": "stream",
     "text": [
      "Hello i am: sunny\n",
      "my age is: 21\n",
      "my marks are: 90\n"
     ]
    }
   ],
   "source": [
    "#example of class with variables & methods\n",
    "class student:\n",
    "    '''this is the class of student details'''\n",
    "    def __init__(self):\n",
    "        self.name=\"sunny\"\n",
    "        self.age=21\n",
    "        self.marks=90\n",
    "    def details(self):\n",
    "        print(\"Hello i am:\",self.name)\n",
    "        print(\"my age is:\",self.age)\n",
    "        print(\"my marks are:\",self.marks)\n",
    "d=student()\n",
    "d.details()    "
   ]
  },
  {
   "cell_type": "code",
   "execution_count": 2,
   "metadata": {},
   "outputs": [
    {
     "name": "stdout",
     "output_type": "stream",
     "text": [
      "constructor execution\n",
      "method execution\n"
     ]
    }
   ],
   "source": [
    "#program to demonistate the concept of constructor will be exectuted only once per object\n",
    "class test:\n",
    "    def __init__(self):\n",
    "        print(\"constructor execution\")\n",
    "    def m1(self):\n",
    "        print(\"method execution\")\n",
    "d1=test()\n",
    "d1.m1()"
   ]
  },
  {
   "cell_type": "code",
   "execution_count": 3,
   "metadata": {},
   "outputs": [
    {
     "name": "stdout",
     "output_type": "stream",
     "text": [
      "constructor execution\n",
      "sunny\n",
      "method execution\n"
     ]
    }
   ],
   "source": [
    "#program to demonistate the concept of constructor will be exectuted only once per object\n",
    "class test:\n",
    "    def __init__(self):\n",
    "        print(\"constructor execution\")\n",
    "        print(\"sunny\")\n",
    "    def m1(self):\n",
    "        print(\"method execution\")\n",
    "d1=test()\n",
    "#d2=tet()\n",
    "d1.m1()\n",
    "#d2.m1()"
   ]
  },
  {
   "cell_type": "code",
   "execution_count": 4,
   "metadata": {},
   "outputs": [
    {
     "name": "stdout",
     "output_type": "stream",
     "text": [
      "constructor execution\n",
      "sunny\n",
      "constructor execution\n",
      "sunny\n"
     ]
    }
   ],
   "source": [
    "d3=test()\n",
    "d3.__init__()"
   ]
  },
  {
   "cell_type": "markdown",
   "metadata": {},
   "source": [
    "# types of variables"
   ]
  },
  {
   "cell_type": "markdown",
   "metadata": {},
   "source": [
    "# 1.instance variables"
   ]
  },
  {
   "cell_type": "markdown",
   "metadata": {},
   "source": [
    "# a. inside the constructor by using self variable"
   ]
  },
  {
   "cell_type": "code",
   "execution_count": 5,
   "metadata": {},
   "outputs": [
    {
     "name": "stdout",
     "output_type": "stream",
     "text": [
      "{'eno': 100, 'name': 'venky'}\n"
     ]
    }
   ],
   "source": [
    "class employe:\n",
    "    def __init__(self):\n",
    "        self.eno=100 #instance variable\n",
    "        self.name=\"venky\" # instance variable\n",
    "e=employe()\n",
    "print(e.__dict__)    "
   ]
  },
  {
   "cell_type": "markdown",
   "metadata": {},
   "source": [
    "# b.inside the instance method by using self variable"
   ]
  },
  {
   "cell_type": "code",
   "execution_count": 6,
   "metadata": {},
   "outputs": [
    {
     "name": "stdout",
     "output_type": "stream",
     "text": [
      "{'a': 10, 'b': 20}\n",
      "{'a': 10, 'b': 20, 'c': 30}\n"
     ]
    }
   ],
   "source": [
    "class Test:\n",
    "    def __init__(self):\n",
    "        self.a=10\n",
    "        self.b=20\n",
    "    def m(self):\n",
    "        self.c=30 #instance variable inside\n",
    "t=Test()\n",
    "t1=Test()\n",
    "t.m()\n",
    "print(t1.__dict__)\n",
    "print(t.__dict__)"
   ]
  },
  {
   "cell_type": "code",
   "execution_count": 7,
   "metadata": {},
   "outputs": [
    {
     "name": "stdout",
     "output_type": "stream",
     "text": [
      "{'a': 10, 'b': 20, 'c': 30}\n",
      "{'a': 10, 'b': 20, 'c': 30}\n"
     ]
    }
   ],
   "source": [
    "class Test:\n",
    "    def __init__(self):\n",
    "        self.a=10\n",
    "        self.b=20\n",
    "    def m(self):\n",
    "        self.c=30 #instance variable inside\n",
    "t=Test()\n",
    "t1=Test()\n",
    "t.m()\n",
    "t1.m()\n",
    "print(t1.__dict__)\n",
    "print(t.__dict__)"
   ]
  },
  {
   "cell_type": "markdown",
   "metadata": {},
   "source": [
    "# c. outside of the class by using object refence variable"
   ]
  },
  {
   "cell_type": "code",
   "execution_count": 8,
   "metadata": {},
   "outputs": [
    {
     "name": "stdout",
     "output_type": "stream",
     "text": [
      "{'a': 10, 'b': 20, 'c': 30, 'd1': 40}\n"
     ]
    }
   ],
   "source": [
    "class Test:\n",
    "    def __init__(self):\n",
    "        self.a=10\n",
    "        self.b=20\n",
    "    def m(self):\n",
    "        self.c=30 #instance variable inside\n",
    "t=Test()\n",
    "t1=Test()\n",
    "t.m()\n",
    "t.d1=40\n",
    "print(t.__dict__)\n",
    "        "
   ]
  },
  {
   "cell_type": "markdown",
   "metadata": {},
   "source": [
    "# accessing of instance variables"
   ]
  },
  {
   "cell_type": "code",
   "execution_count": 9,
   "metadata": {},
   "outputs": [
    {
     "name": "stdout",
     "output_type": "stream",
     "text": [
      "10\n",
      "20\n"
     ]
    }
   ],
   "source": [
    "#acessing of instance variables from inside of the class inside of instance\n",
    "class Test:\n",
    "    def __init__(self):\n",
    "        self.a=10\n",
    "        self.b=20\n",
    "    def m(self):\n",
    "        self.c=30 #instance variable inside\n",
    "        print(self.a)\n",
    "        print(self.b)\n",
    "t=Test()\n",
    "t.m()"
   ]
  },
  {
   "cell_type": "code",
   "execution_count": 11,
   "metadata": {},
   "outputs": [
    {
     "name": "stdout",
     "output_type": "stream",
     "text": [
      "10 20 30\n"
     ]
    }
   ],
   "source": [
    "#accessing of instance variables from outside of the class\n",
    "class Test:\n",
    "    def __init__(self):\n",
    "        self.a=10\n",
    "        self.b=20\n",
    "    def m(self):\n",
    "        self.c=30 #instance variable inside\n",
    "        #print(self.a)\n",
    "        #print(self.b)\n",
    "t=Test()\n",
    "t.m()\n",
    "print(t.a,t.b,t.c)"
   ]
  },
  {
   "cell_type": "markdown",
   "metadata": {},
   "source": [
    "# How to delete instance variables from the object"
   ]
  },
  {
   "cell_type": "code",
   "execution_count": null,
   "metadata": {},
   "outputs": [],
   "source": [
    "1. Within the class we can delete instance variables with the help of self\n",
    "\n",
    "syntax: del self.variablename\n",
    "    \n",
    "2. From outside of the class with the help of object reference variable\n",
    "\n",
    "syntax: del objectreferencevariable.variablename"
   ]
  },
  {
   "cell_type": "code",
   "execution_count": 1,
   "metadata": {},
   "outputs": [
    {
     "name": "stdout",
     "output_type": "stream",
     "text": [
      "{'a': 10, 'b': 20, 'c': 30, 'd': 40}\n",
      "{'a': 10, 'b': 20, 'c': 30, 'd': 40, 'e': 50}\n"
     ]
    }
   ],
   "source": [
    "#example program to delete instance variables from inside class & outside class\n",
    "class Test:\n",
    "    def __init__(self):\n",
    "        self.a=10\n",
    "        self.b=20\n",
    "        self.c=30\n",
    "        self.d=40\n",
    "    def m(self):\n",
    "        self.e=50\n",
    "t=Test()\n",
    "print(t.__dict__)\n",
    "t.m()\n",
    "print(t.__dict__)"
   ]
  },
  {
   "cell_type": "code",
   "execution_count": 2,
   "metadata": {},
   "outputs": [
    {
     "name": "stdout",
     "output_type": "stream",
     "text": [
      "{'a': 10, 'b': 20, 'c': 30, 'd': 40}\n",
      "{'a': 10, 'b': 20, 'c': 30, 'd': 40, 'e': 50}\n",
      "{'a': 10, 'b': 20, 'c': 30, 'e': 50}\n"
     ]
    }
   ],
   "source": [
    "#example program to delete instance variables from inside class & outside class\n",
    "class Test:\n",
    "    def __init__(self):\n",
    "        self.a=10\n",
    "        self.b=20\n",
    "        self.c=30\n",
    "        self.d=40\n",
    "    def m(self):\n",
    "        self.e=50\n",
    "t=Test()\n",
    "print(t.__dict__)\n",
    "t.m()\n",
    "print(t.__dict__)\n",
    "del t.d #deleting instance variable from outside of the class with the help of object reference variable\n",
    "print(t.__dict__)"
   ]
  },
  {
   "cell_type": "code",
   "execution_count": 3,
   "metadata": {},
   "outputs": [
    {
     "name": "stdout",
     "output_type": "stream",
     "text": [
      "{'a': 10, 'b': 20, 'c': 30, 'd': 40}\n",
      "{'a': 10, 'b': 20, 'c': 30}\n"
     ]
    }
   ],
   "source": [
    "#example program to delete instance variables from inside class & outside class\n",
    "class Test:\n",
    "    def __init__(self):\n",
    "        self.a=10\n",
    "        self.b=20\n",
    "        self.c=30\n",
    "        self.d=40\n",
    "    def m(self):\n",
    "        del self.d #delecting instance variable from inside of the class using self variable\n",
    "t=Test()\n",
    "print(t.__dict__)\n",
    "t.m()\n",
    "print(t.__dict__)"
   ]
  },
  {
   "cell_type": "code",
   "execution_count": 4,
   "metadata": {},
   "outputs": [
    {
     "name": "stdout",
     "output_type": "stream",
     "text": [
      "{'a': 10, 'c': 30, 'd': 40}\n",
      "{'a': 10, 'c': 30, 'd': 40, 'e': 50}\n"
     ]
    }
   ],
   "source": [
    "#example program to delete instance variables from inside class & outside class\n",
    "class Test:\n",
    "    def __init__(self):\n",
    "        self.a=10\n",
    "        self.b=20\n",
    "        self.c=30\n",
    "        self.d=40\n",
    "        del self.b\n",
    "    def m(self):\n",
    "        self.e=50\n",
    "t=Test()\n",
    "print(t.__dict__)\n",
    "t.m()\n",
    "print(t.__dict__)"
   ]
  },
  {
   "cell_type": "code",
   "execution_count": 5,
   "metadata": {},
   "outputs": [
    {
     "name": "stdout",
     "output_type": "stream",
     "text": [
      "{'a': 10, 'c': 30, 'd': 40}\n",
      "{'a': 10, 'c': 30, 'd': 40}\n"
     ]
    }
   ],
   "source": [
    "#example program to delete instance variables from inside class & outside class\n",
    "class Test:\n",
    "    def __init__(self):\n",
    "        self.a=10\n",
    "        self.b=20\n",
    "        self.c=30\n",
    "        self.d=40\n",
    "        del self.b\n",
    "    def m(self):\n",
    "        self.e=50\n",
    "        del self.e\n",
    "t=Test()\n",
    "print(t.__dict__)\n",
    "t.m()\n",
    "print(t.__dict__)"
   ]
  },
  {
   "cell_type": "code",
   "execution_count": 6,
   "metadata": {},
   "outputs": [
    {
     "name": "stdout",
     "output_type": "stream",
     "text": [
      "{'a': 10, 'b': 20, 'c': 30, 'd': 40}\n",
      "{'a': 10, 'b': 20, 'c': 30, 'd': 40}\n",
      "{'a': 10, 'b': 20, 'c': 30, 'd': 40}\n",
      "{'b': 20, 'c': 30, 'd': 40}\n"
     ]
    }
   ],
   "source": [
    "#when we create a two objects for same class, then a seperate copy of instance variables will be created.\n",
    "#when we change or delete instance variable of one object will not reflect on other object.\n",
    "#example program to delete instance variables from inside class & outside class\n",
    "class Test:\n",
    "    def __init__(self):\n",
    "        self.a=10\n",
    "        self.b=20\n",
    "        self.c=30\n",
    "        self.d=40\n",
    "    def m(self):\n",
    "        self.e=50\n",
    "t1=Test()\n",
    "t2=Test()\n",
    "print(t1.__dict__)\n",
    "print(t2.__dict__)\n",
    "del t2.a\n",
    "print(t1.__dict__)\n",
    "print(t2.__dict__)\n",
    "t1.m()"
   ]
  },
  {
   "cell_type": "code",
   "execution_count": 8,
   "metadata": {},
   "outputs": [
    {
     "name": "stdout",
     "output_type": "stream",
     "text": [
      "{'a': 10, 'b': 20, 'c': 30, 'd': 40}\n",
      "{'a': 10, 'b': 20, 'c': 30, 'd': 40}\n",
      "{'a': 10, 'b': 888, 'c': 30, 'd': 40}\n",
      "{'a': 999, 'b': 20, 'c': 30, 'd': 40}\n"
     ]
    }
   ],
   "source": [
    "#example program to delete instance variables from inside class and outside class\n",
    "class Test:\n",
    "    def __init__(self):\n",
    "        self.a=10\n",
    "        self.b=20\n",
    "        self.c=30\n",
    "        self.d=40\n",
    "    def m(self):\n",
    "        self.e=50\n",
    "t1=Test()\n",
    "t2=Test()\n",
    "print(t1.__dict__)\n",
    "print(t2.__dict__)\n",
    "t2.a=999\n",
    "t1.b=888\n",
    "print(t1.__dict__)\n",
    "print(t2.__dict__)\n",
    "t1.m()"
   ]
  },
  {
   "cell_type": "code",
   "execution_count": 1,
   "metadata": {},
   "outputs": [
    {
     "name": "stdout",
     "output_type": "stream",
     "text": [
      "{'__module__': '__main__', 'a': 10, '__init__': <function Test.__init__ at 0x00000148A216AE50>, 'm1': <function Test.m1 at 0x00000148A216AAF0>, 'm2': <classmethod object at 0x00000148A2167430>, 'm3': <staticmethod object at 0x00000148A215CA00>, '__dict__': <attribute '__dict__' of 'Test' objects>, '__weakref__': <attribute '__weakref__' of 'Test' objects>, '__doc__': None}\n",
      "{'__module__': '__main__', 'a': 10, '__init__': <function Test.__init__ at 0x00000148A216AE50>, 'm1': <function Test.m1 at 0x00000148A216AAF0>, 'm2': <classmethod object at 0x00000148A2167430>, 'm3': <staticmethod object at 0x00000148A215CA00>, '__dict__': <attribute '__dict__' of 'Test' objects>, '__weakref__': <attribute '__weakref__' of 'Test' objects>, '__doc__': None, 'b': 20}\n",
      "{'__module__': '__main__', 'a': 10, '__init__': <function Test.__init__ at 0x00000148A216AE50>, 'm1': <function Test.m1 at 0x00000148A216AAF0>, 'm2': <classmethod object at 0x00000148A2167430>, 'm3': <staticmethod object at 0x00000148A215CA00>, '__dict__': <attribute '__dict__' of 'Test' objects>, '__weakref__': <attribute '__weakref__' of 'Test' objects>, '__doc__': None, 'b': 20, 'c': 30}\n"
     ]
    }
   ],
   "source": [
    "#example program for static variable in different places\n",
    "class Test:\n",
    "    a=10 #inside the class but outside of methods\n",
    "    def __init__(self):\n",
    "        Test.b=20 #inside the constructor by using class name\n",
    "    def m1(self):\n",
    "        Test.c=30 #inside instance method by using classname\n",
    "    @classmethod\n",
    "    def m2(cls):\n",
    "        cls.d=40 #inside of class method by using cls variable\n",
    "        Test.e=50 #inside class method by using class name\n",
    "    @staticmethod\n",
    "    def m3():\n",
    "        Test.f=60 #inside static method by using classname\n",
    "        \n",
    "print(Test.__dict__)\n",
    "t=Test()\n",
    "print(Test.__dict__)\n",
    "t.m1()\n",
    "print(Test.__dict__)\n",
    "t.m2()\n",
    "t.m3()\n",
    "Test.g=60"
   ]
  },
  {
   "cell_type": "markdown",
   "metadata": {},
   "source": [
    "# Declaring of static variables in different places"
   ]
  },
  {
   "cell_type": "code",
   "execution_count": null,
   "metadata": {},
   "outputs": [],
   "source": [
    "1. We declare the static variable inside the class but outside of the methods.\n",
    "2. Inside of the constructor by using classname\n",
    "3. Inside of instance method by using either classname\n",
    "4. Inside class method using either classname or cls variable\n",
    "5. Inside static method by using classname."
   ]
  },
  {
   "cell_type": "markdown",
   "metadata": {},
   "source": [
    "# 1. We declare the static variable inside the class but outside of the methods"
   ]
  },
  {
   "cell_type": "code",
   "execution_count": 1,
   "metadata": {},
   "outputs": [
    {
     "name": "stdout",
     "output_type": "stream",
     "text": [
      "10 20\n",
      "10 20\n",
      "888 999\n",
      "888 20\n"
     ]
    }
   ],
   "source": [
    "class Test:\n",
    "    x=10\n",
    "    def __init__(self):\n",
    "        self.y=20\n",
    "t1=Test()\n",
    "t2=Test()\n",
    "print(t1.x,t1.y)\n",
    "print(t2.x,t2.y)\n",
    "Test.x=888\n",
    "t1.y=999\n",
    "print(t1.x,t1.y)\n",
    "print(t2.x,t2.y)"
   ]
  },
  {
   "cell_type": "code",
   "execution_count": 2,
   "metadata": {},
   "outputs": [
    {
     "name": "stdout",
     "output_type": "stream",
     "text": [
      "{'__module__': '__main__', 'a': 10, '__init__': <function Test.__init__ at 0x000001BEFCCAAE50>, 'm1': <function Test.m1 at 0x000001BEFCCDE040>, 'm2': <classmethod object at 0x000001BEFCCE5340>, 'm3': <staticmethod object at 0x000001BEFCCE5370>, '__dict__': <attribute '__dict__' of 'Test' objects>, '__weakref__': <attribute '__weakref__' of 'Test' objects>, '__doc__': None}\n",
      "{'__module__': '__main__', 'a': 10, '__init__': <function Test.__init__ at 0x000001BEFCCAAE50>, 'm1': <function Test.m1 at 0x000001BEFCCDE040>, 'm2': <classmethod object at 0x000001BEFCCE5340>, 'm3': <staticmethod object at 0x000001BEFCCE5370>, '__dict__': <attribute '__dict__' of 'Test' objects>, '__weakref__': <attribute '__weakref__' of 'Test' objects>, '__doc__': None, 'b': 20}\n",
      "{'__module__': '__main__', 'a': 10, '__init__': <function Test.__init__ at 0x000001BEFCCAAE50>, 'm1': <function Test.m1 at 0x000001BEFCCDE040>, 'm2': <classmethod object at 0x000001BEFCCE5340>, 'm3': <staticmethod object at 0x000001BEFCCE5370>, '__dict__': <attribute '__dict__' of 'Test' objects>, '__weakref__': <attribute '__weakref__' of 'Test' objects>, '__doc__': None, 'b': 20, 'c': 30}\n"
     ]
    }
   ],
   "source": [
    "#example program for static variable in different places\n",
    "class Test:\n",
    "    a=10 #inside the class the class but outside of methods\n",
    "    def __init__(self):\n",
    "        Test.b=20 #inside the constructor by using class name\n",
    "    def m1(self):\n",
    "        Test.c=30 #inside instance method by using class name\n",
    "    @classmethod\n",
    "    def m2(cls):\n",
    "        cls.d=40 #inside of the class method by using cls variable\n",
    "        Test.e=50 #inside class method by using class name\n",
    "    @staticmethod\n",
    "    def m3():\n",
    "        Test.f=60 #inside atatic method by using class name\n",
    "print(Test.__dict__)\n",
    "t=Test()\n",
    "print(Test.__dict__)\n",
    "t.m1()\n",
    "print(Test.__dict__)\n",
    "t.m2()\n",
    "t.m3()\n",
    "Test.g=60"
   ]
  },
  {
   "cell_type": "markdown",
   "metadata": {},
   "source": [
    "# Accessing of static variables"
   ]
  },
  {
   "cell_type": "code",
   "execution_count": null,
   "metadata": {},
   "outputs": [],
   "source": [
    "1. inside of the constructor: by using classname or self variable\n",
    "    \n",
    "2. inside of instance method: by using classname or srlf variable\n",
    "\n",
    "3. inside classmethod: by using classname or cls variable\n",
    "    \n",
    "4. inside staticmethod: by using classname\n",
    "    \n",
    "5. Outside of class: by using classname or object reference"
   ]
  },
  {
   "cell_type": "code",
   "execution_count": 4,
   "metadata": {},
   "outputs": [
    {
     "name": "stdout",
     "output_type": "stream",
     "text": [
      "inside constructor with self: 10\n",
      "inside constructor with classname: 10\n",
      "outside of class with object reference: 10\n",
      "outside of class with classname: 10\n",
      "inside instance with self: 10\n",
      "inside instance with classname: 10\n",
      "inside class method with self: 10\n",
      "inside class method with classname: 10\n",
      "inside static method with classname: 10\n"
     ]
    }
   ],
   "source": [
    "class Test:\n",
    "    a=10\n",
    "    def __init__(self):\n",
    "        print(\"inside constructor with self:\",self.a)\n",
    "        print(\"inside constructor with classname:\",Test.a)\n",
    "    def m1(self):\n",
    "        print(\"inside instance with self:\",self.a)\n",
    "        print(\"inside instance with classname:\",Test.a)\n",
    "    @classmethod\n",
    "    def m2(cls):\n",
    "        print(\"inside class method with self:\",cls.a)\n",
    "        print(\"inside class method with classname:\",Test.a)\n",
    "    @staticmethod\n",
    "    def m3():\n",
    "        print(\"inside static method with classname:\",Test.a)\n",
    "t=Test()\n",
    "print(\"outside of class with object reference:\",t.a)\n",
    "print(\"outside of class with classname:\",Test.a)\n",
    "t.m1()\n",
    "t.m2()\n",
    "t.m3()\n",
    "\n",
    "       "
   ]
  },
  {
   "cell_type": "markdown",
   "metadata": {},
   "source": [
    "# modifying the value of static variable in different places"
   ]
  },
  {
   "cell_type": "code",
   "execution_count": 5,
   "metadata": {},
   "outputs": [
    {
     "name": "stdout",
     "output_type": "stream",
     "text": [
      "10\n",
      "Modified value of a inside constructor: 888\n",
      "Modified value of a inside constructor: 999\n",
      "Modified value of a inside constructor: 777\n",
      "777\n"
     ]
    }
   ],
   "source": [
    "#when we want modify the value of static varaiable anywhere in the class or outside of the class with the help of classname\n",
    "#except inside of class method, inside class method with cls variable we can modify the value of static variable.\n",
    "\n",
    "class Test:\n",
    "    a=10\n",
    "    def __init__(self):\n",
    "        Test.a=777\n",
    "        print(\"Modified value of a inside constructor:\",Test.a)\n",
    "    @classmethod\n",
    "    def m1(cls):\n",
    "        cls.a=888\n",
    "        print(\"Modified value of a inside constructor:\",cls.a)\n",
    "    @staticmethod\n",
    "    def m2():\n",
    "        Test.a=999\n",
    "        print(\"Modified value of a inside constructor:\",Test.a)\n",
    "print(Test.a)\n",
    "Test.m1()\n",
    "Test.m2()\n",
    "t=Test()\n",
    "print(Test.a)\n",
    "\n"
   ]
  },
  {
   "cell_type": "markdown",
   "metadata": {},
   "source": [
    "# How to delete static variable of class"
   ]
  },
  {
   "cell_type": "code",
   "execution_count": 6,
   "metadata": {},
   "outputs": [
    {
     "name": "stdout",
     "output_type": "stream",
     "text": [
      "10\n"
     ]
    }
   ],
   "source": [
    "class Test:\n",
    "    a=10\n",
    "    def __init__(self):\n",
    "        del Test.a\n",
    "print(Test.a)"
   ]
  },
  {
   "cell_type": "code",
   "execution_count": 7,
   "metadata": {},
   "outputs": [
    {
     "name": "stdout",
     "output_type": "stream",
     "text": [
      "10\n"
     ]
    },
    {
     "ename": "AttributeError",
     "evalue": "type object 'Test' has no attribute 'a'",
     "output_type": "error",
     "traceback": [
      "\u001b[1;31m---------------------------------------------------------------------------\u001b[0m",
      "\u001b[1;31mAttributeError\u001b[0m                            Traceback (most recent call last)",
      "\u001b[1;32m<ipython-input-7-548a1f129799>\u001b[0m in \u001b[0;36m<module>\u001b[1;34m\u001b[0m\n\u001b[0;32m      6\u001b[0m \u001b[0mprint\u001b[0m\u001b[1;33m(\u001b[0m\u001b[0mTest\u001b[0m\u001b[1;33m.\u001b[0m\u001b[0ma\u001b[0m\u001b[1;33m)\u001b[0m\u001b[1;33m\u001b[0m\u001b[1;33m\u001b[0m\u001b[0m\n\u001b[0;32m      7\u001b[0m \u001b[0mt\u001b[0m\u001b[1;33m=\u001b[0m\u001b[0mTest\u001b[0m\u001b[1;33m(\u001b[0m\u001b[1;33m)\u001b[0m\u001b[1;33m\u001b[0m\u001b[1;33m\u001b[0m\u001b[0m\n\u001b[1;32m----> 8\u001b[1;33m \u001b[0mprint\u001b[0m\u001b[1;33m(\u001b[0m\u001b[0mTest\u001b[0m\u001b[1;33m.\u001b[0m\u001b[0ma\u001b[0m\u001b[1;33m)\u001b[0m\u001b[1;33m\u001b[0m\u001b[1;33m\u001b[0m\u001b[0m\n\u001b[0m",
      "\u001b[1;31mAttributeError\u001b[0m: type object 'Test' has no attribute 'a'"
     ]
    }
   ],
   "source": [
    "#Deletion of ststic variable inside constructor using classname\n",
    "class Test:\n",
    "    a=10\n",
    "    def __init__(self):\n",
    "        del Test.a\n",
    "print(Test.a)\n",
    "t=Test()\n",
    "print(Test.a)"
   ]
  },
  {
   "cell_type": "code",
   "execution_count": 9,
   "metadata": {},
   "outputs": [
    {
     "name": "stdout",
     "output_type": "stream",
     "text": [
      "10\n"
     ]
    },
    {
     "ename": "AttributeError",
     "evalue": "'Test' object has no attribute 'a'",
     "output_type": "error",
     "traceback": [
      "\u001b[1;31m---------------------------------------------------------------------------\u001b[0m",
      "\u001b[1;31mAttributeError\u001b[0m                            Traceback (most recent call last)",
      "\u001b[1;32m<ipython-input-9-e0a6abf7f131>\u001b[0m in \u001b[0;36m<module>\u001b[1;34m\u001b[0m\n\u001b[0;32m      8\u001b[0m \u001b[0mt\u001b[0m\u001b[1;33m=\u001b[0m\u001b[0mTest\u001b[0m\u001b[1;33m(\u001b[0m\u001b[1;33m)\u001b[0m\u001b[1;33m\u001b[0m\u001b[1;33m\u001b[0m\u001b[0m\n\u001b[0;32m      9\u001b[0m \u001b[0mt\u001b[0m\u001b[1;33m.\u001b[0m\u001b[0mm\u001b[0m\u001b[1;33m(\u001b[0m\u001b[1;33m)\u001b[0m\u001b[1;33m\u001b[0m\u001b[1;33m\u001b[0m\u001b[0m\n\u001b[1;32m---> 10\u001b[1;33m \u001b[0mprint\u001b[0m\u001b[1;33m(\u001b[0m\u001b[0mt\u001b[0m\u001b[1;33m.\u001b[0m\u001b[0ma\u001b[0m\u001b[1;33m)\u001b[0m\u001b[1;33m\u001b[0m\u001b[1;33m\u001b[0m\u001b[0m\n\u001b[0m",
      "\u001b[1;31mAttributeError\u001b[0m: 'Test' object has no attribute 'a'"
     ]
    }
   ],
   "source": [
    "#Deletion of ststic variable inside constructor using cls variable\n",
    "class Test:\n",
    "    a=10\n",
    "    @classmethod\n",
    "    def m(cls):\n",
    "        del cls.a\n",
    "print(Test.a)\n",
    "t=Test()\n",
    "t.m()\n",
    "print(t.a)"
   ]
  },
  {
   "cell_type": "code",
   "execution_count": 12,
   "metadata": {},
   "outputs": [
    {
     "name": "stdout",
     "output_type": "stream",
     "text": [
      "10\n"
     ]
    },
    {
     "ename": "AttributeError",
     "evalue": "'Test' object has no attribute 'a'",
     "output_type": "error",
     "traceback": [
      "\u001b[1;31m---------------------------------------------------------------------------\u001b[0m",
      "\u001b[1;31mAttributeError\u001b[0m                            Traceback (most recent call last)",
      "\u001b[1;32m<ipython-input-12-b8a3d21be089>\u001b[0m in \u001b[0;36m<module>\u001b[1;34m\u001b[0m\n\u001b[0;32m      8\u001b[0m \u001b[0mt\u001b[0m\u001b[1;33m=\u001b[0m\u001b[0mTest\u001b[0m\u001b[1;33m(\u001b[0m\u001b[1;33m)\u001b[0m\u001b[1;33m\u001b[0m\u001b[1;33m\u001b[0m\u001b[0m\n\u001b[0;32m      9\u001b[0m \u001b[0mt\u001b[0m\u001b[1;33m.\u001b[0m\u001b[0mm\u001b[0m\u001b[1;33m(\u001b[0m\u001b[1;33m)\u001b[0m\u001b[1;33m\u001b[0m\u001b[1;33m\u001b[0m\u001b[0m\n\u001b[1;32m---> 10\u001b[1;33m \u001b[0mprint\u001b[0m\u001b[1;33m(\u001b[0m\u001b[0mt\u001b[0m\u001b[1;33m.\u001b[0m\u001b[0ma\u001b[0m\u001b[1;33m)\u001b[0m\u001b[1;33m\u001b[0m\u001b[1;33m\u001b[0m\u001b[0m\n\u001b[0m",
      "\u001b[1;31mAttributeError\u001b[0m: 'Test' object has no attribute 'a'"
     ]
    }
   ],
   "source": [
    "#Deletion of ststic variable inside constructor using cls variable\n",
    "class Test:\n",
    "    a=10\n",
    "    @staticmethod\n",
    "    def m():\n",
    "        del Test.a\n",
    "print(Test.a)\n",
    "t=Test()\n",
    "t.m()\n",
    "print(t.a)"
   ]
  },
  {
   "cell_type": "code",
   "execution_count": null,
   "metadata": {},
   "outputs": [],
   "source": []
  }
 ],
 "metadata": {
  "kernelspec": {
   "display_name": "Python 3",
   "language": "python",
   "name": "python3"
  },
  "language_info": {
   "codemirror_mode": {
    "name": "ipython",
    "version": 3
   },
   "file_extension": ".py",
   "mimetype": "text/x-python",
   "name": "python",
   "nbconvert_exporter": "python",
   "pygments_lexer": "ipython3",
   "version": "3.8.5"
  }
 },
 "nbformat": 4,
 "nbformat_minor": 4
}
