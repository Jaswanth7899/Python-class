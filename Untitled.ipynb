{
 "cells": [
  {
   "cell_type": "markdown",
   "id": "1c2b0814",
   "metadata": {},
   "source": [
    "# strings"
   ]
  },
  {
   "cell_type": "code",
   "execution_count": 2,
   "id": "ab0376ce",
   "metadata": {},
   "outputs": [
    {
     "name": "stdout",
     "output_type": "stream",
     "text": [
      "enter string:    good morning\n",
      "    good morning\n",
      "good morning\n"
     ]
    }
   ],
   "source": [
    "s=input(\"enter string:\")\n",
    "print(s)\n",
    "s1=s.strip()\n",
    "print(s1)"
   ]
  },
  {
   "cell_type": "code",
   "execution_count": 10,
   "id": "7ef4702f",
   "metadata": {},
   "outputs": [
    {
     "name": "stdout",
     "output_type": "stream",
     "text": [
      "enter string:jaswanth   \n",
      "jaswanth   \n",
      "please remove spaces\n"
     ]
    }
   ],
   "source": [
    "s=input(\"enter string:\")\n",
    "print(s)\n",
    "if s==\"Jaswanth\":\n",
    "    print(\"spaces removed\")\n",
    "else:\n",
    "    print(\"please remove spaces\")\n",
    "    s1=s.lstrip()\n",
    "    if s1==\"Jaswanth\":\n",
    "        print(\"spaces removed by strip function\")"
   ]
  },
  {
   "cell_type": "markdown",
   "id": "f24604fe",
   "metadata": {},
   "source": [
    "# Find substring"
   ]
  },
  {
   "cell_type": "code",
   "execution_count": 9,
   "id": "aa9b7f7e",
   "metadata": {},
   "outputs": [
    {
     "name": "stdout",
     "output_type": "stream",
     "text": [
      "6\n",
      "0\n",
      "12\n",
      "1\n"
     ]
    }
   ],
   "source": [
    "s=\"Hello hello Good morining,hello Good Morning\"\n",
    "print(s.find(\"hello\"))\n",
    "print(s.find(\"Hello\"))\n",
    "print(s.find(\"Good\"))\n",
    "print(s.find(\"e\"))"
   ]
  },
  {
   "cell_type": "code",
   "execution_count": null,
   "id": "8f437373",
   "metadata": {},
   "outputs": [],
   "source": [
    "s.find(substring,start index,end index)"
   ]
  },
  {
   "cell_type": "code",
   "execution_count": 12,
   "id": "3e9a889e",
   "metadata": {},
   "outputs": [
    {
     "name": "stdout",
     "output_type": "stream",
     "text": [
      "6\n"
     ]
    }
   ],
   "source": [
    "s=\"Hello Hai How are you\"\n",
    "print(s.find('Ha',2,15))"
   ]
  },
  {
   "cell_type": "markdown",
   "id": "23aa9061",
   "metadata": {},
   "source": [
    "# Replacing a string with another string"
   ]
  },
  {
   "cell_type": "code",
   "execution_count": 17,
   "id": "9d19494a",
   "metadata": {},
   "outputs": [
    {
     "name": "stdout",
     "output_type": "stream",
     "text": [
      "Jaswanth Good Morning,hello,Jaswanth,How are you\n",
      "Hello Good Morning,hello,Hello,How are you\n"
     ]
    }
   ],
   "source": [
    "s=\"Hello Good Morning,hello,Hello,How are you\"\n",
    "s1=s.replace(\"Hello\",\"Jaswanth\")\n",
    "print(s1)\n",
    "print(s)"
   ]
  },
  {
   "cell_type": "markdown",
   "id": "e75bb9f9",
   "metadata": {},
   "source": [
    "# splitting of string"
   ]
  },
  {
   "cell_type": "code",
   "execution_count": 18,
   "id": "02e4b2a0",
   "metadata": {},
   "outputs": [
    {
     "name": "stdout",
     "output_type": "stream",
     "text": [
      "['Hello', 'Jaswanth', 'Bezawada']\n"
     ]
    }
   ],
   "source": [
    "s=\"Hello Jaswanth Bezawada\"\n",
    "l=s.split()\n",
    "print(l)"
   ]
  },
  {
   "cell_type": "code",
   "execution_count": 20,
   "id": "4df9f026",
   "metadata": {},
   "outputs": [
    {
     "name": "stdout",
     "output_type": "stream",
     "text": [
      "Jaswanth_Bezawada\n"
     ]
    }
   ],
   "source": [
    "l=[\"Jaswanth\",\"Bezawada\"]\n",
    "s='_'.join(l)\n",
    "print(s)"
   ]
  },
  {
   "cell_type": "code",
   "execution_count": null,
   "id": "9315a915",
   "metadata": {},
   "outputs": [],
   "source": []
  }
 ],
 "metadata": {
  "kernelspec": {
   "display_name": "Python 3",
   "language": "python",
   "name": "python3"
  },
  "language_info": {
   "codemirror_mode": {
    "name": "ipython",
    "version": 3
   },
   "file_extension": ".py",
   "mimetype": "text/x-python",
   "name": "python",
   "nbconvert_exporter": "python",
   "pygments_lexer": "ipython3",
   "version": "3.9.4"
  }
 },
 "nbformat": 4,
 "nbformat_minor": 5
}
