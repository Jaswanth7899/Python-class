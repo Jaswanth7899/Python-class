{
 "cells": [
  {
   "cell_type": "markdown",
   "metadata": {},
   "source": [
    "# lambda function"
   ]
  },
  {
   "cell_type": "code",
   "execution_count": 1,
   "metadata": {},
   "outputs": [
    {
     "name": "stdout",
     "output_type": "stream",
     "text": [
      "the square of 4 is 16\n"
     ]
    }
   ],
   "source": [
    "#program to perform square of the given number using anonymous function\n",
    "s=lambda n:n*n\n",
    "print(\"the square of 4 is\",s(4))"
   ]
  },
  {
   "cell_type": "code",
   "execution_count": 3,
   "metadata": {},
   "outputs": [
    {
     "name": "stdout",
     "output_type": "stream",
     "text": [
      "sum of 10,20 is : 30\n"
     ]
    }
   ],
   "source": [
    "#program to find the sum of two numbers\n",
    "x=lambda a,b:a+b\n",
    "print(\"sum of 10,20 is :\",x(10,20))"
   ]
  },
  {
   "cell_type": "code",
   "execution_count": 4,
   "metadata": {},
   "outputs": [
    {
     "name": "stdout",
     "output_type": "stream",
     "text": [
      "the biggest num is 30\n"
     ]
    }
   ],
   "source": [
    "#program to find the biggest number of given two numbers\n",
    "y=lambda a,b:a if a>b else b\n",
    "print(\"the biggest num is\",y(30,5))"
   ]
  },
  {
   "cell_type": "markdown",
   "metadata": {},
   "source": [
    "# filter()"
   ]
  },
  {
   "cell_type": "code",
   "execution_count": null,
   "metadata": {},
   "outputs": [],
   "source": [
    "We can filter()function to filter the values from the given sequence based on condition\n",
    "filter(function,sequence)"
   ]
  },
  {
   "cell_type": "code",
   "execution_count": 6,
   "metadata": {},
   "outputs": [
    {
     "name": "stdout",
     "output_type": "stream",
     "text": [
      "[4, 2, 6, 8, 20]\n"
     ]
    }
   ],
   "source": [
    "#program to filter even numbers in given list\n",
    "l=[1,3,4,2,5,6,8,20,13,15]\n",
    "l1=list(filter(lambda x:x%2==0,l))\n",
    "print(l1)"
   ]
  },
  {
   "cell_type": "code",
   "execution_count": 7,
   "metadata": {},
   "outputs": [
    {
     "name": "stdout",
     "output_type": "stream",
     "text": [
      "[1, 3, 5, 13, 15]\n"
     ]
    }
   ],
   "source": [
    "#program to filter odd numbers in given list\n",
    "l=[1,3,4,2,5,6,8,20,13,15]\n",
    "l1=list(filter(lambda x:x%2!=0,l))\n",
    "print(l1)"
   ]
  },
  {
   "cell_type": "code",
   "execution_count": 8,
   "metadata": {},
   "outputs": [
    {
     "name": "stdout",
     "output_type": "stream",
     "text": [
      "[4, 2, 6, 8, 20]\n"
     ]
    }
   ],
   "source": [
    "#program to print the even numbers of list using functions without lambda function\n",
    "def even(x):\n",
    "    if x%2==0:\n",
    "        return True\n",
    "    else:\n",
    "        return False\n",
    "l=[1,3,4,2,5,6,8,20,13,15]\n",
    "l1=list(filter(even,l))\n",
    "print(l1)\n"
   ]
  },
  {
   "cell_type": "markdown",
   "metadata": {},
   "source": [
    "# map()"
   ]
  },
  {
   "cell_type": "code",
   "execution_count": null,
   "metadata": {},
   "outputs": [],
   "source": [
    "For every element present in the sequence if we want to apply any functionality like multiplication then map \n",
    "function will be used."
   ]
  },
  {
   "cell_type": "code",
   "execution_count": 9,
   "metadata": {},
   "outputs": [
    {
     "name": "stdout",
     "output_type": "stream",
     "text": [
      "[2, 4, 6, 8, 10, 12]\n"
     ]
    }
   ],
   "source": [
    "#program to multiply each element in the list with 2 without lambda function\n",
    "l=[1,2,3,4,5,6]\n",
    "def mult(x):\n",
    "    return x*2\n",
    "l1=list(map(mult,l))\n",
    "print(l1)"
   ]
  },
  {
   "cell_type": "code",
   "execution_count": 10,
   "metadata": {},
   "outputs": [
    {
     "name": "stdout",
     "output_type": "stream",
     "text": [
      "[2, 4, 6, 8, 10, 12]\n"
     ]
    }
   ],
   "source": [
    "#program to multiply each element in the list with 2 with lambda function\n",
    "l=[1,2,3,4,5,6]\n",
    "l1=list(map(lambda x:x*2,l))\n",
    "print(l1)"
   ]
  },
  {
   "cell_type": "markdown",
   "metadata": {},
   "source": [
    "# reduce()"
   ]
  },
  {
   "cell_type": "code",
   "execution_count": null,
   "metadata": {},
   "outputs": [],
   "source": [
    "this function is used to convert sequence of elements to single element"
   ]
  },
  {
   "cell_type": "code",
   "execution_count": 11,
   "metadata": {},
   "outputs": [
    {
     "name": "stdout",
     "output_type": "stream",
     "text": [
      "21\n"
     ]
    }
   ],
   "source": [
    "from functools import*\n",
    "s=reduce(lambda x,y:x+y,l)\n",
    "print(s)"
   ]
  },
  {
   "cell_type": "code",
   "execution_count": null,
   "metadata": {},
   "outputs": [],
   "source": []
  }
 ],
 "metadata": {
  "kernelspec": {
   "display_name": "Python 3",
   "language": "python",
   "name": "python3"
  },
  "language_info": {
   "codemirror_mode": {
    "name": "ipython",
    "version": 3
   },
   "file_extension": ".py",
   "mimetype": "text/x-python",
   "name": "python",
   "nbconvert_exporter": "python",
   "pygments_lexer": "ipython3",
   "version": "3.8.5"
  }
 },
 "nbformat": 4,
 "nbformat_minor": 4
}
